{
 "cells": [
  {
   "cell_type": "code",
   "execution_count": 1,
   "metadata": {
    "deletable": false,
    "editable": false
   },
   "outputs": [
    {
     "name": "stdout",
     "output_type": "stream",
     "text": [
      "=====================================================================\n",
      "Assignment: Project 1: World Progress\n",
      "OK, version v1.12.5\n",
      "=====================================================================\n",
      "\n"
     ]
    }
   ],
   "source": [
    "# Initialize OK\n",
    "from client.api.notebook import Notebook\n",
    "ok = Notebook('project1.ok')"
   ]
  },
  {
   "cell_type": "markdown",
   "metadata": {},
   "source": [
    "## Project 1: World Progress"
   ]
  },
  {
   "cell_type": "markdown",
   "metadata": {},
   "source": [
    "In this project, you'll explore data from [Gapminder.org](http://gapminder.org), a website dedicated to providing a fact-based view of the world and how it has changed. That site includes several data visualizations and presentations, but also publishes the raw data that we will use in this project to recreate and extend some of their most famous visualizations.\n",
    "\n",
    "The Gapminder website collects data from many sources and compiles them into tables that describe many countries around the world. All of the data they aggregate are published in the [Systema Globalis](https://github.com/open-numbers/ddf--gapminder--systema_globalis/blob/master/README.md). Their goal is \"to compile all public statistics; Social, Economic and Environmental; into a comparable total dataset.\" All data sets in this project are copied directly from the Systema Globalis without any changes.\n",
    "\n",
    "This project is dedicated to [Hans Rosling](https://en.wikipedia.org/wiki/Hans_Rosling) (1948-2017), who championed the use of data to understand and prioritize global development challenges."
   ]
  },
  {
   "cell_type": "markdown",
   "metadata": {},
   "source": [
    "### Logistics\n",
    "\n",
    "**Deadline.** This project is due at 11:59pm on Friday 10/4. Projects will be accepted up to 2 days (48 hours) late; a project submitted less than 24 hours after the deadline will receive 2/3 credit, a project submitted between 24 and 48 hours after the deadline will receive 1/3 credit, and a project submitted 48 hours or more after the deadline will receive no credit. It's **much** better to be early than late, so start working now.\n",
    "\n",
    "**Checkpoint.** For full credit, you must also complete the first 8 questions, pass all public autograder tests, and submit to okpy by 11:59pm on Friday 9/27. After you've submitted the checkpoint, you may still change your answers before the project deadline - only your final submission will be graded for correctness. You will have some lab time to work on these questions, but we recommend that you start the project before lab and leave time to finish the checkpoint afterward.\n",
    "\n",
    "**Partners.** You may work with one other partner; your partner must be from your assigned lab section. Only one of you is required to submit the project. On [okpy.org](http://okpy.org), the person who submits should also designate their partner so that both of you receive credit.\n",
    "\n",
    "**Rules.** Don't share your code with anybody but your partner. You are welcome to discuss questions with other students, but don't share the answers. The experience of solving the problems in this project will prepare you for exams (and life). If someone asks you for the answer, resist! Instead, you can demonstrate how you would solve a similar problem.\n",
    "\n",
    "**Support.** You are not alone! Come to office hours, post on Piazza, and talk to your classmates. If you want to ask about the details of your solution to a problem, make a private Piazza post and the staff will respond. If you're ever feeling overwhelmed or don't know how to make progress, email your TA or tutor for help. You can find contact information for the staff on the [course website](http://data8.org/fa19/staff.html).\n",
    "\n",
    "**Tests.** The tests that are given are **not comprehensive** and passing the tests for a question **does not** mean that you answered the question correctly. Tests usually only check that your table has the correct column labels. However, more tests will be applied to verify the correctness of your submission in order to assign your final score, so be careful and check your work! You might want to create your own checks along the way to see if your answers make sense. Additionally, before you submit, make sure that none of your cells take a very long time to run (several minutes).\n",
    "\n",
    "**Free Response Questions:** Make sure that you put the answers to the written questions in the indicated cell we provide. Check to make sure that you have a [Gradescope](http://gradescope.com) account, which is where the scores to the free response questions will be posted. If you do not, make sure to reach out to your assigned (u)GSI.\n",
    "\n",
    "**Advice.** Develop your answers incrementally. To perform a complicated table manipulation, break it up into steps, perform each step on a different line, give a new name to each result, and check that each intermediate result is what you expect. You can add any additional names or functions you want to the provided cells. Make sure that you are using distinct and meaningful variable names throughout the notebook. Along that line, **DO NOT** reuse the variable names that we use when we grade your answers. For example, in Question 1 of the Global Poverty section, we ask you to assign an answer to `latest`. Do not reassign the variable name `latest` to anything else in your notebook, otherwise there is the chance that our tests grade against what `latest` was reassigned to.\n",
    "\n",
    "You **never** have to use just one line in this project or any others. Use intermediate variables and multiple lines as much as you would like!  \n",
    "\n",
    "To get started, load `datascience`, `numpy`, `plots`, and `ok`."
   ]
  },
  {
   "cell_type": "code",
   "execution_count": 2,
   "metadata": {},
   "outputs": [
    {
     "name": "stdout",
     "output_type": "stream",
     "text": [
      "=====================================================================\n",
      "Assignment: Project 1: World Progress\n",
      "OK, version v1.12.5\n",
      "=====================================================================\n",
      "\n"
     ]
    }
   ],
   "source": [
    "from datascience import *\n",
    "import numpy as np\n",
    "\n",
    "%matplotlib inline\n",
    "import matplotlib.pyplot as plots\n",
    "plots.style.use('fivethirtyeight')\n",
    "\n",
    "from client.api.notebook import Notebook\n",
    "ok = Notebook('project1.ok')"
   ]
  },
  {
   "cell_type": "markdown",
   "metadata": {},
   "source": [
    "Before continuing the assignment, select \"Save and Checkpoint\" in the File menu and then execute the submit cell below. The result will contain a link that you can use to check that your assignment has been submitted successfully. If you submit more than once before the deadline, we will only grade your final submission. If you mistakenly submit the wrong one, you can head to okpy.org and flag the correct version. There will be another submit cell at the end of the assignment when you finish!"
   ]
  },
  {
   "cell_type": "code",
   "execution_count": 3,
   "metadata": {},
   "outputs": [
    {
     "data": {
      "application/javascript": [
       "IPython.notebook.save_checkpoint();"
      ],
      "text/plain": [
       "<IPython.core.display.Javascript object>"
      ]
     },
     "metadata": {},
     "output_type": "display_data"
    },
    {
     "data": {
      "application/javascript": [
       "IPython.notebook.save_notebook();"
      ],
      "text/plain": [
       "<IPython.core.display.Javascript object>"
      ]
     },
     "metadata": {},
     "output_type": "display_data"
    },
    {
     "name": "stdout",
     "output_type": "stream",
     "text": [
      "Saving notebook... Saved 'project1.ipynb'.\n",
      "Submit... 100% complete\n",
      "Submission successful for user: rashnabuxey@berkeley.edu\n",
      "URL: https://okpy.org/cal/data8/fa19/project1/submissions/pZgq52\n",
      "\n"
     ]
    }
   ],
   "source": [
    "_ = ok.submit()"
   ]
  },
  {
   "cell_type": "markdown",
   "metadata": {
    "deletable": false,
    "editable": false
   },
   "source": [
    "## 1. Global Population Growth\n"
   ]
  },
  {
   "cell_type": "markdown",
   "metadata": {
    "deletable": false,
    "editable": false
   },
   "source": [
    "The global population of humans reached 1 billion around 1800, 3 billion around 1960, and 7 billion around 2011. The potential impact of exponential population growth has concerned scientists, economists, and politicians alike.\n",
    "\n",
    "The UN Population Division estimates that the world population will likely continue to grow throughout the 21st century, but at a slower rate, perhaps reaching 11 billion by 2100. However, the UN does not rule out scenarios of more extreme growth.\n",
    "\n",
    "<a href=\"http://www.pewresearch.org/fact-tank/2015/06/08/scientists-more-worried-than-public-about-worlds-growing-population/ft_15-06-04_popcount/\"> \n",
    " <img src=\"pew_population_projection.png\"/> \n",
    "</a>\n",
    "\n",
    "In this section, we will examine some of the factors that influence population growth and how they are changing around the world.\n",
    "\n",
    "The first table we will consider is the total population of each country over time. Run the cell below."
   ]
  },
  {
   "cell_type": "code",
   "execution_count": 4,
   "metadata": {
    "deletable": false,
    "editable": false
   },
   "outputs": [
    {
     "data": {
      "text/html": [
       "<table border=\"1\" class=\"dataframe\">\n",
       "    <thead>\n",
       "        <tr>\n",
       "            <th>geo</th> <th>time</th> <th>population_total</th>\n",
       "        </tr>\n",
       "    </thead>\n",
       "    <tbody>\n",
       "        <tr>\n",
       "            <td>abw </td> <td>1800</td> <td>19286           </td>\n",
       "        </tr>\n",
       "        <tr>\n",
       "            <td>abw </td> <td>1801</td> <td>19286           </td>\n",
       "        </tr>\n",
       "        <tr>\n",
       "            <td>abw </td> <td>1802</td> <td>19286           </td>\n",
       "        </tr>\n",
       "    </tbody>\n",
       "</table>\n",
       "<p>... (87792 rows omitted)</p>"
      ],
      "text/plain": [
       "<IPython.core.display.HTML object>"
      ]
     },
     "metadata": {},
     "output_type": "display_data"
    }
   ],
   "source": [
    "population = Table.read_table('population.csv')\n",
    "population.show(3)"
   ]
  },
  {
   "cell_type": "markdown",
   "metadata": {},
   "source": [
    "**Note:** The population csv file can also be found [here](https://github.com/open-numbers/ddf--gapminder--systema_globalis/raw/master/ddf--datapoints--population_total--by--geo--time.csv). The data for this project was downloaded in February 2017."
   ]
  },
  {
   "cell_type": "markdown",
   "metadata": {
    "deletable": false,
    "editable": false
   },
   "source": [
    "### Bangladesh\n",
    "\n",
    "In the `population` table, the `geo` column contains three-letter codes established by the [International Organization for Standardization](https://en.wikipedia.org/wiki/International_Organization_for_Standardization) (ISO) in the [Alpha-3](https://en.wikipedia.org/wiki/ISO_3166-1_alpha-3#Current_codes) standard. We will begin by taking a close look at Bangladesh. Inspect the standard to find the 3-letter code for Bangladesh."
   ]
  },
  {
   "cell_type": "markdown",
   "metadata": {
    "deletable": false,
    "editable": false
   },
   "source": [
    "**Question 1.** Create a table called `b_pop` that has two columns labeled `time` and `population_total`. The first column should contain the years from 1970 through 2015 (including both 1970 and 2015) and the second should contain the population of Bangladesh in each of those years.\n",
    "\n",
    "<!--\n",
    "BEGIN QUESTION\n",
    "name: q1_1\n",
    "-->"
   ]
  },
  {
   "cell_type": "code",
   "execution_count": 5,
   "metadata": {
    "deletable": false
   },
   "outputs": [
    {
     "data": {
      "text/html": [
       "<table border=\"1\" class=\"dataframe\">\n",
       "    <thead>\n",
       "        <tr>\n",
       "            <th>time</th> <th>population_total</th>\n",
       "        </tr>\n",
       "    </thead>\n",
       "    <tbody>\n",
       "        <tr>\n",
       "            <td>1970</td> <td>65048701        </td>\n",
       "        </tr>\n",
       "        <tr>\n",
       "            <td>1971</td> <td>66417450        </td>\n",
       "        </tr>\n",
       "        <tr>\n",
       "            <td>1972</td> <td>67578486        </td>\n",
       "        </tr>\n",
       "        <tr>\n",
       "            <td>1973</td> <td>68658472        </td>\n",
       "        </tr>\n",
       "        <tr>\n",
       "            <td>1974</td> <td>69837960        </td>\n",
       "        </tr>\n",
       "        <tr>\n",
       "            <td>1975</td> <td>71247153        </td>\n",
       "        </tr>\n",
       "        <tr>\n",
       "            <td>1976</td> <td>72930206        </td>\n",
       "        </tr>\n",
       "        <tr>\n",
       "            <td>1977</td> <td>74848466        </td>\n",
       "        </tr>\n",
       "        <tr>\n",
       "            <td>1978</td> <td>76948378        </td>\n",
       "        </tr>\n",
       "        <tr>\n",
       "            <td>1979</td> <td>79141947        </td>\n",
       "        </tr>\n",
       "    </tbody>\n",
       "</table>\n",
       "<p>... (36 rows omitted)</p>"
      ],
      "text/plain": [
       "time | population_total\n",
       "1970 | 65048701\n",
       "1971 | 66417450\n",
       "1972 | 67578486\n",
       "1973 | 68658472\n",
       "1974 | 69837960\n",
       "1975 | 71247153\n",
       "1976 | 72930206\n",
       "1977 | 74848466\n",
       "1978 | 76948378\n",
       "1979 | 79141947\n",
       "... (36 rows omitted)"
      ]
     },
     "execution_count": 5,
     "metadata": {},
     "output_type": "execute_result"
    }
   ],
   "source": [
    "b_pop = population.where(\"time\", are.between_or_equal_to(1970,2015)).where(\"geo\", are.equal_to(\"bgd\")).drop(\"geo\")\n",
    "b_pop\n"
   ]
  },
  {
   "cell_type": "code",
   "execution_count": 6,
   "metadata": {
    "deletable": false,
    "editable": false
   },
   "outputs": [
    {
     "name": "stdout",
     "output_type": "stream",
     "text": [
      "~~~~~~~~~~~~~~~~~~~~~~~~~~~~~~~~~~~~~~~~~~~~~~~~~~~~~~~~~~~~~~~~~~~~~\n",
      "Running tests\n",
      "\n",
      "---------------------------------------------------------------------\n",
      "Test summary\n",
      "    Passed: 2\n",
      "    Failed: 0\n",
      "[ooooooooook] 100.0% passed\n",
      "\n"
     ]
    }
   ],
   "source": [
    "ok.grade(\"q1_1\");"
   ]
  },
  {
   "cell_type": "markdown",
   "metadata": {
    "deletable": false,
    "editable": false
   },
   "source": [
    "Run the following cell to create a table called `b_five` that has the population of Bangladesh every five years. At a glance, it appears that the population of Bangladesh has been growing quickly indeed!"
   ]
  },
  {
   "cell_type": "code",
   "execution_count": 7,
   "metadata": {
    "deletable": false,
    "editable": false
   },
   "outputs": [
    {
     "data": {
      "text/html": [
       "<table border=\"1\" class=\"dataframe\">\n",
       "    <thead>\n",
       "        <tr>\n",
       "            <th>time</th> <th>population_total</th>\n",
       "        </tr>\n",
       "    </thead>\n",
       "    <tbody>\n",
       "        <tr>\n",
       "            <td>1970</td> <td>65,048,701      </td>\n",
       "        </tr>\n",
       "        <tr>\n",
       "            <td>1975</td> <td>71,247,153      </td>\n",
       "        </tr>\n",
       "        <tr>\n",
       "            <td>1980</td> <td>81,364,176      </td>\n",
       "        </tr>\n",
       "        <tr>\n",
       "            <td>1985</td> <td>93,015,182      </td>\n",
       "        </tr>\n",
       "        <tr>\n",
       "            <td>1990</td> <td>105,983,136     </td>\n",
       "        </tr>\n",
       "        <tr>\n",
       "            <td>1995</td> <td>118,427,768     </td>\n",
       "        </tr>\n",
       "        <tr>\n",
       "            <td>2000</td> <td>131,280,739     </td>\n",
       "        </tr>\n",
       "        <tr>\n",
       "            <td>2005</td> <td>142,929,979     </td>\n",
       "        </tr>\n",
       "        <tr>\n",
       "            <td>2010</td> <td>151,616,777     </td>\n",
       "        </tr>\n",
       "        <tr>\n",
       "            <td>2015</td> <td>160,995,642     </td>\n",
       "        </tr>\n",
       "    </tbody>\n",
       "</table>"
      ],
      "text/plain": [
       "time | population_total\n",
       "1970 | 65,048,701\n",
       "1975 | 71,247,153\n",
       "1980 | 81,364,176\n",
       "1985 | 93,015,182\n",
       "1990 | 105,983,136\n",
       "1995 | 118,427,768\n",
       "2000 | 131,280,739\n",
       "2005 | 142,929,979\n",
       "2010 | 151,616,777\n",
       "2015 | 160,995,642"
      ]
     },
     "execution_count": 7,
     "metadata": {},
     "output_type": "execute_result"
    }
   ],
   "source": [
    "b_pop.set_format('population_total', NumberFormatter)\n",
    "\n",
    "fives = np.arange(1970, 2016, 5) # 1970, 1975, 1980, ...\n",
    "b_five = b_pop.sort('time').where('time', are.contained_in(fives))\n",
    "b_five"
   ]
  },
  {
   "cell_type": "markdown",
   "metadata": {
    "deletable": false,
    "editable": false
   },
   "source": [
    "**Question 2.** Assign `initial` to an array that contains the population for every five year interval from 1970 to 2010. Then, assign `changed` to an array that contains the population for every five year interval from 1975 to 2015. You should use the `b_five` table to create both arrays, first filtering the table to only contain the relevant years.\n",
    "\n",
    "We have provided the code below that uses  `initial` and `changed` in order to add a column to `b_five` called `annual_growth`. Don't worry about the calculation of the growth rates; run the test below to test your solution.\n",
    "\n",
    "If you are interested in how we came up with the formula for growth rates, consult the [growth rates](https://www.inferentialthinking.com/chapters/03/2/1/growth) section of the textbook.\n",
    "\n",
    "<!--\n",
    "BEGIN QUESTION\n",
    "name: q1_2\n",
    "-->"
   ]
  },
  {
   "cell_type": "code",
   "execution_count": 8,
   "metadata": {
    "deletable": false
   },
   "outputs": [
    {
     "data": {
      "text/html": [
       "<table border=\"1\" class=\"dataframe\">\n",
       "    <thead>\n",
       "        <tr>\n",
       "            <th>time</th> <th>population_total</th> <th>annual_growth</th>\n",
       "        </tr>\n",
       "    </thead>\n",
       "    <tbody>\n",
       "        <tr>\n",
       "            <td>1970</td> <td>65,048,701      </td> <td>1.84%        </td>\n",
       "        </tr>\n",
       "        <tr>\n",
       "            <td>1975</td> <td>71,247,153      </td> <td>2.69%        </td>\n",
       "        </tr>\n",
       "        <tr>\n",
       "            <td>1980</td> <td>81,364,176      </td> <td>2.71%        </td>\n",
       "        </tr>\n",
       "        <tr>\n",
       "            <td>1985</td> <td>93,015,182      </td> <td>2.64%        </td>\n",
       "        </tr>\n",
       "        <tr>\n",
       "            <td>1990</td> <td>105,983,136     </td> <td>2.25%        </td>\n",
       "        </tr>\n",
       "        <tr>\n",
       "            <td>1995</td> <td>118,427,768     </td> <td>2.08%        </td>\n",
       "        </tr>\n",
       "        <tr>\n",
       "            <td>2000</td> <td>131,280,739     </td> <td>1.71%        </td>\n",
       "        </tr>\n",
       "        <tr>\n",
       "            <td>2005</td> <td>142,929,979     </td> <td>1.19%        </td>\n",
       "        </tr>\n",
       "        <tr>\n",
       "            <td>2010</td> <td>151,616,777     </td> <td>1.21%        </td>\n",
       "        </tr>\n",
       "    </tbody>\n",
       "</table>"
      ],
      "text/plain": [
       "time | population_total | annual_growth\n",
       "1970 | 65,048,701       | 1.84%\n",
       "1975 | 71,247,153       | 2.69%\n",
       "1980 | 81,364,176       | 2.71%\n",
       "1985 | 93,015,182       | 2.64%\n",
       "1990 | 105,983,136      | 2.25%\n",
       "1995 | 118,427,768      | 2.08%\n",
       "2000 | 131,280,739      | 1.71%\n",
       "2005 | 142,929,979      | 1.19%\n",
       "2010 | 151,616,777      | 1.21%"
      ]
     },
     "execution_count": 8,
     "metadata": {},
     "output_type": "execute_result"
    }
   ],
   "source": [
    "initial = b_five.where(\"time\", are.between_or_equal_to(1970,2010)).column(\"population_total\")\n",
    "changed = b_five.where(\"time\", are.between_or_equal_to(1975, 2015)).column(\"population_total\")\n",
    "\n",
    "b_1970_through_2010 = b_five.where('time', are.below_or_equal_to(2010)) \n",
    "b_five_growth = b_1970_through_2010.with_column('annual_growth', (changed/initial)**0.2-1)\n",
    "b_five_growth.set_format('annual_growth', PercentFormatter)"
   ]
  },
  {
   "cell_type": "code",
   "execution_count": 9,
   "metadata": {
    "deletable": false,
    "editable": false
   },
   "outputs": [
    {
     "name": "stdout",
     "output_type": "stream",
     "text": [
      "~~~~~~~~~~~~~~~~~~~~~~~~~~~~~~~~~~~~~~~~~~~~~~~~~~~~~~~~~~~~~~~~~~~~~\n",
      "Running tests\n",
      "\n",
      "---------------------------------------------------------------------\n",
      "Test summary\n",
      "    Passed: 2\n",
      "    Failed: 0\n",
      "[ooooooooook] 100.0% passed\n",
      "\n"
     ]
    }
   ],
   "source": [
    "ok.grade(\"q1_2\");"
   ]
  },
  {
   "cell_type": "markdown",
   "metadata": {
    "deletable": false,
    "editable": false
   },
   "source": [
    "While the population has grown every five years since 1970, the annual growth rate decreased dramatically from 1985 to 2005. Let's look at some other information in order to develop a possible explanation. Run the next cell to load three additional tables of measurements about countries over time."
   ]
  },
  {
   "cell_type": "code",
   "execution_count": 10,
   "metadata": {
    "deletable": false,
    "editable": false
   },
   "outputs": [],
   "source": [
    "life_expectancy = Table.read_table('life_expectancy.csv')\n",
    "child_mortality = Table.read_table('child_mortality.csv').relabel(2, 'child_mortality_under_5_per_1000_born')\n",
    "fertility = Table.read_table('fertility.csv')"
   ]
  },
  {
   "cell_type": "markdown",
   "metadata": {
    "deletable": false,
    "editable": false
   },
   "source": [
    "The `life_expectancy` table contains a statistic that is often used to measure how long people live, called *life expectancy at birth*. This number, for a country in a given year, [does not measure how long babies born in that year are expected to live](http://blogs.worldbank.org/opendata/what-does-life-expectancy-birth-really-mean). Instead, it measures how long someone would live, on average, if the *mortality conditions* in that year persisted throughout their lifetime. These \"mortality conditions\" describe what fraction of people at each age survived the year. So, it is a way of measuring the proportion of people that are staying alive, aggregated over different age groups in the population."
   ]
  },
  {
   "cell_type": "markdown",
   "metadata": {},
   "source": [
    "Run the following cells below to see `life_expectancy`, `child_mortality`, and `fertility`. Refer back to these tables as they will be helpful for answering further questions!"
   ]
  },
  {
   "cell_type": "code",
   "execution_count": 11,
   "metadata": {},
   "outputs": [
    {
     "data": {
      "text/html": [
       "<table border=\"1\" class=\"dataframe\">\n",
       "    <thead>\n",
       "        <tr>\n",
       "            <th>geo</th> <th>time</th> <th>life_expectancy_years</th>\n",
       "        </tr>\n",
       "    </thead>\n",
       "    <tbody>\n",
       "        <tr>\n",
       "            <td>afg </td> <td>1800</td> <td>28.21                </td>\n",
       "        </tr>\n",
       "        <tr>\n",
       "            <td>afg </td> <td>1801</td> <td>28.2                 </td>\n",
       "        </tr>\n",
       "        <tr>\n",
       "            <td>afg </td> <td>1802</td> <td>28.19                </td>\n",
       "        </tr>\n",
       "        <tr>\n",
       "            <td>afg </td> <td>1803</td> <td>28.18                </td>\n",
       "        </tr>\n",
       "        <tr>\n",
       "            <td>afg </td> <td>1804</td> <td>28.17                </td>\n",
       "        </tr>\n",
       "        <tr>\n",
       "            <td>afg </td> <td>1805</td> <td>28.16                </td>\n",
       "        </tr>\n",
       "        <tr>\n",
       "            <td>afg </td> <td>1806</td> <td>28.15                </td>\n",
       "        </tr>\n",
       "        <tr>\n",
       "            <td>afg </td> <td>1807</td> <td>28.14                </td>\n",
       "        </tr>\n",
       "        <tr>\n",
       "            <td>afg </td> <td>1808</td> <td>28.13                </td>\n",
       "        </tr>\n",
       "        <tr>\n",
       "            <td>afg </td> <td>1809</td> <td>28.12                </td>\n",
       "        </tr>\n",
       "    </tbody>\n",
       "</table>\n",
       "<p>... (43847 rows omitted)</p>"
      ],
      "text/plain": [
       "geo  | time | life_expectancy_years\n",
       "afg  | 1800 | 28.21\n",
       "afg  | 1801 | 28.2\n",
       "afg  | 1802 | 28.19\n",
       "afg  | 1803 | 28.18\n",
       "afg  | 1804 | 28.17\n",
       "afg  | 1805 | 28.16\n",
       "afg  | 1806 | 28.15\n",
       "afg  | 1807 | 28.14\n",
       "afg  | 1808 | 28.13\n",
       "afg  | 1809 | 28.12\n",
       "... (43847 rows omitted)"
      ]
     },
     "execution_count": 11,
     "metadata": {},
     "output_type": "execute_result"
    }
   ],
   "source": [
    "life_expectancy"
   ]
  },
  {
   "cell_type": "code",
   "execution_count": 12,
   "metadata": {},
   "outputs": [
    {
     "data": {
      "text/html": [
       "<table border=\"1\" class=\"dataframe\">\n",
       "    <thead>\n",
       "        <tr>\n",
       "            <th>geo</th> <th>time</th> <th>child_mortality_under_5_per_1000_born</th>\n",
       "        </tr>\n",
       "    </thead>\n",
       "    <tbody>\n",
       "        <tr>\n",
       "            <td>afg </td> <td>1800</td> <td>468.6                                </td>\n",
       "        </tr>\n",
       "        <tr>\n",
       "            <td>afg </td> <td>1801</td> <td>468.6                                </td>\n",
       "        </tr>\n",
       "        <tr>\n",
       "            <td>afg </td> <td>1802</td> <td>468.6                                </td>\n",
       "        </tr>\n",
       "        <tr>\n",
       "            <td>afg </td> <td>1803</td> <td>468.6                                </td>\n",
       "        </tr>\n",
       "        <tr>\n",
       "            <td>afg </td> <td>1804</td> <td>468.6                                </td>\n",
       "        </tr>\n",
       "        <tr>\n",
       "            <td>afg </td> <td>1805</td> <td>468.6                                </td>\n",
       "        </tr>\n",
       "        <tr>\n",
       "            <td>afg </td> <td>1806</td> <td>470                                  </td>\n",
       "        </tr>\n",
       "        <tr>\n",
       "            <td>afg </td> <td>1807</td> <td>470                                  </td>\n",
       "        </tr>\n",
       "        <tr>\n",
       "            <td>afg </td> <td>1808</td> <td>470                                  </td>\n",
       "        </tr>\n",
       "        <tr>\n",
       "            <td>afg </td> <td>1809</td> <td>470                                  </td>\n",
       "        </tr>\n",
       "    </tbody>\n",
       "</table>\n",
       "<p>... (40746 rows omitted)</p>"
      ],
      "text/plain": [
       "geo  | time | child_mortality_under_5_per_1000_born\n",
       "afg  | 1800 | 468.6\n",
       "afg  | 1801 | 468.6\n",
       "afg  | 1802 | 468.6\n",
       "afg  | 1803 | 468.6\n",
       "afg  | 1804 | 468.6\n",
       "afg  | 1805 | 468.6\n",
       "afg  | 1806 | 470\n",
       "afg  | 1807 | 470\n",
       "afg  | 1808 | 470\n",
       "afg  | 1809 | 470\n",
       "... (40746 rows omitted)"
      ]
     },
     "execution_count": 12,
     "metadata": {},
     "output_type": "execute_result"
    }
   ],
   "source": [
    "child_mortality"
   ]
  },
  {
   "cell_type": "code",
   "execution_count": 13,
   "metadata": {},
   "outputs": [
    {
     "data": {
      "text/html": [
       "<table border=\"1\" class=\"dataframe\">\n",
       "    <thead>\n",
       "        <tr>\n",
       "            <th>geo</th> <th>time</th> <th>children_per_woman_total_fertility</th>\n",
       "        </tr>\n",
       "    </thead>\n",
       "    <tbody>\n",
       "        <tr>\n",
       "            <td>afg </td> <td>1800</td> <td>7                                 </td>\n",
       "        </tr>\n",
       "        <tr>\n",
       "            <td>afg </td> <td>1801</td> <td>7                                 </td>\n",
       "        </tr>\n",
       "        <tr>\n",
       "            <td>afg </td> <td>1802</td> <td>7                                 </td>\n",
       "        </tr>\n",
       "        <tr>\n",
       "            <td>afg </td> <td>1803</td> <td>7                                 </td>\n",
       "        </tr>\n",
       "        <tr>\n",
       "            <td>afg </td> <td>1804</td> <td>7                                 </td>\n",
       "        </tr>\n",
       "        <tr>\n",
       "            <td>afg </td> <td>1805</td> <td>7                                 </td>\n",
       "        </tr>\n",
       "        <tr>\n",
       "            <td>afg </td> <td>1806</td> <td>7                                 </td>\n",
       "        </tr>\n",
       "        <tr>\n",
       "            <td>afg </td> <td>1807</td> <td>7                                 </td>\n",
       "        </tr>\n",
       "        <tr>\n",
       "            <td>afg </td> <td>1808</td> <td>7                                 </td>\n",
       "        </tr>\n",
       "        <tr>\n",
       "            <td>afg </td> <td>1809</td> <td>7                                 </td>\n",
       "        </tr>\n",
       "    </tbody>\n",
       "</table>\n",
       "<p>... (43402 rows omitted)</p>"
      ],
      "text/plain": [
       "geo  | time | children_per_woman_total_fertility\n",
       "afg  | 1800 | 7\n",
       "afg  | 1801 | 7\n",
       "afg  | 1802 | 7\n",
       "afg  | 1803 | 7\n",
       "afg  | 1804 | 7\n",
       "afg  | 1805 | 7\n",
       "afg  | 1806 | 7\n",
       "afg  | 1807 | 7\n",
       "afg  | 1808 | 7\n",
       "afg  | 1809 | 7\n",
       "... (43402 rows omitted)"
      ]
     },
     "execution_count": 13,
     "metadata": {},
     "output_type": "execute_result"
    }
   ],
   "source": [
    "fertility"
   ]
  },
  {
   "cell_type": "markdown",
   "metadata": {
    "deletable": false,
    "editable": false
   },
   "source": [
    "**Question 3.** Perhaps population is growing more slowly because people aren't living as long. Use the `life_expectancy` table to draw a line graph with the years 1970 and later on the horizontal axis that shows how the *life expectancy at birth* has changed in Bangladesh.\n",
    "\n",
    "<!--\n",
    "BEGIN QUESTION\n",
    "name: q1_3\n",
    "manual: true\n",
    "-->\n",
    "<!-- EXPORT TO PDF -->"
   ]
  },
  {
   "cell_type": "code",
   "execution_count": 14,
   "metadata": {
    "deletable": false,
    "export_pdf": true,
    "manual_grade": true,
    "manual_problem_id": "global_pop_3"
   },
   "outputs": [
    {
     "data": {
      "image/png": "[encoded data removed]",
      "text/plain": [
       "<Figure size 432x288 with 1 Axes>"
      ]
     },
     "metadata": {},
     "output_type": "display_data"
    }
   ],
   "source": [
    "line_graph = life_expectancy.where(\"time\", are.above_or_equal_to(1970)).where(\"geo\", are.equal_to(\"bgd\")).drop(\"geo\")\n",
    "\n",
    "line_graph.plot(\"time\", \"life_expectancy_years\")"
   ]
  },
  {
   "cell_type": "markdown",
   "metadata": {
    "deletable": false,
    "editable": false
   },
   "source": [
    "**Question 4.** Assuming everything else stays the same, do the trends in life expectancy in the graph above directly explain why the population growth rate decreased from 1985 to 2010 in Bangladesh? Why or why not? \n",
    "\n",
    "Hint: What happened in Bangladesh in 1991, and does that event explain the overall change in population growth rate?\n",
    "\n",
    "<!--\n",
    "BEGIN QUESTION\n",
    "name: q1_4\n",
    "manual: true\n",
    "-->\n",
    "<!-- EXPORT TO PDF -->"
   ]
  },
  {
   "cell_type": "markdown",
   "metadata": {
    "collapsed": true,
    "deletable": false,
    "export_pdf": true,
    "manual_grade": true,
    "manual_problem_id": "global_pop_4"
   },
   "source": [
    "*The rise in population can be attributed to factors such as the decline of mortality rates which are a subsequent result of higher life expectancy as evident on the graph. As life expectancy increases and mortality rates decrease, population also grows. The decrease in the population growth rate can be attributed to the fact that, as mortality rates decrease, children are expected to live longer meaning that people tend to have less children as they no longer have to account for some of their children dying during chilhood due to disease or other factors. If people have less children, the population growth rate will decrease while the population is still increasing due to the fact that life expectancy has increased and mortality rates have decreased. \n",
    "\n",
    "This relationship is an association but not necessarily causal because we cannot say it is higher life expectancy and lower mortality rates that directly cause the population growth rate to decrease. Other factors, such as fertility and the amount of the population reaching child-bearing age, play equal if not larger roles and must be taken into account as well. The trends regarding the association between life expectancy and population growth rate apply to Bangladesh specifically, as evident on the graph and table. Life expectancy in Bangladesh was rising steadily between 1985 and 2010 while the population growth rate was declining. The only exception was around 1991, when Bangladesh experienced the deadliest cyclone in history. The effects of this cyclone include the decline in life expectancy, as evident by the dip seen on the graph. This decline means a subsequent increase in mortality rates which can cause a fluctuation in population growth. However, as mentioned before, this is only an association, not a causation, and thus it is possible that no shift may occur in the growh rate because other factors also play roles in determining the population growth rate.*"
   ]
  },
  {
   "cell_type": "markdown",
   "metadata": {
    "deletable": false,
    "editable": false
   },
   "source": [
    "The `fertility` table contains a statistic that is often used to measure how many babies are being born, the *total fertility rate*. This number describes the [number of children a woman would have in her lifetime](https://www.measureevaluation.org/prh/rh_indicators/specific/fertility/total-fertility-rate), on average, if the current rates of birth by age of the mother persisted throughout her child bearing years, assuming she survived through age 49. "
   ]
  },
  {
   "cell_type": "markdown",
   "metadata": {
    "deletable": false,
    "editable": false
   },
   "source": [
    "**Question 5.** Write a function `fertility_over_time` that takes the Alpha-3 code of a `country` and a `start` year. It returns a two-column table with labels `Year` and `Children per woman` that can be used to generate a line chart of the country's fertility rate each year, starting at the `start` year. The plot should include the `start` year and all later years that appear in the `fertility` table. \n",
    "\n",
    "Then, in the next cell, call your `fertility_over_time` function on the Alpha-3 code for Bangladesh and the year 1970 in order to plot how Bangladesh's fertility rate has changed since 1970. Note that the function `fertility_over_time` should not return the plot itself. **The expression that draws the line plot is provided for you; please don't change it.**\n",
    "\n",
    "<!--\n",
    "BEGIN QUESTION\n",
    "name: q1_5\n",
    "-->"
   ]
  },
  {
   "cell_type": "code",
   "execution_count": 18,
   "metadata": {
    "deletable": false
   },
   "outputs": [
    {
     "data": {
      "image/png": "[encoded data removed]",
      "text/plain": [
       "<Figure size 432x288 with 1 Axes>"
      ]
     },
     "metadata": {},
     "output_type": "display_data"
    }
   ],
   "source": [
    "def fertility_over_time(country, start):\n",
    "    \"\"\"Create a two-column table that describes a country's total fertility rate each year.\"\"\"\n",
    "\n",
    "    country_fertility = fertility.where(\"geo\", are.equal_to(country))\n",
    "    country_fertility_after_start = country_fertility.where(\"time\", are.above_or_equal_to(start))\n",
    "    time_column = country_fertility_after_start.column(\"time\")\n",
    "    fertility_column = country_fertility_after_start.column(\"children_per_woman_total_fertility\") \n",
    "    \n",
    "    return Table().with_column(\"Year\", time_column).with_column(\"Children per woman\", fertility_column)  \n",
    "    \n",
    "bangladesh_code = \"bgd\"\n",
    "\n",
    "fertility_over_time(bangladesh_code, 1970).plot(0, 1) # You should *not* change this line."
   ]
  },
  {
   "cell_type": "code",
   "execution_count": 19,
   "metadata": {
    "deletable": false,
    "editable": false
   },
   "outputs": [
    {
     "name": "stdout",
     "output_type": "stream",
     "text": [
      "~~~~~~~~~~~~~~~~~~~~~~~~~~~~~~~~~~~~~~~~~~~~~~~~~~~~~~~~~~~~~~~~~~~~~\n",
      "Running tests\n",
      "\n",
      "---------------------------------------------------------------------\n",
      "Test summary\n",
      "    Passed: 3\n",
      "    Failed: 0\n",
      "[ooooooooook] 100.0% passed\n",
      "\n"
     ]
    }
   ],
   "source": [
    "ok.grade(\"q1_5\");"
   ]
  },
  {
   "cell_type": "markdown",
   "metadata": {
    "deletable": false,
    "editable": false
   },
   "source": [
    "**Question 6.** Assuming everything else is constant, do the trends in fertility in the graph above help directly explain why the population growth rate decreased from 1985 to 2010 in Bangladesh? Why or why not?\n",
    "\n",
    "<!--\n",
    "BEGIN QUESTION\n",
    "name: q1_6\n",
    "manual: true\n",
    "-->\n",
    "<!-- EXPORT TO PDF -->"
   ]
  },
  {
   "cell_type": "markdown",
   "metadata": {
    "deletable": false,
    "export_pdf": true,
    "manual_grade": true,
    "manual_problem_id": "global_pop_6"
   },
   "source": [
    "*The trends in fertility directly relate to the decrease in population growth rate. Between 1985 and 2010, there is a steep decline in fertility, which leads to a decrease in childbearing per woman as shown on the graph above. If women are having less children, the population is directly affected and the growth will decrease. This is a causal relationship as the number of children women in a country have has a direct relationship with the population and its growth rate.*"
   ]
  },
  {
   "cell_type": "markdown",
   "metadata": {
    "deletable": false,
    "editable": false
   },
   "source": [
    "It has been observed that lower fertility rates are often associated with lower child mortality rates. The link has been attributed to family planning: if parents can expect that their children will all survive into adulthood, then they will choose to have fewer children. We can see if this association is evident in Bangladesh by plotting the relationship between total fertility rate and [child mortality rate per 1000 children](https://en.wikipedia.org/wiki/Child_mortality)."
   ]
  },
  {
   "cell_type": "markdown",
   "metadata": {
    "deletable": false,
    "editable": false
   },
   "source": [
    "**Question 7.** Using both the `fertility` and `child_mortality` tables, draw a scatter diagram that has Bangladesh's total fertility on the horizontal axis and its child mortality on the vertical axis with one point for each year, starting with 1970.\n",
    "\n",
    "**The expression that draws the scatter diagram is provided for you; please don't change it.** Instead, create a table called `post_1969_fertility_and_child_mortality` with the appropriate column labels and data in order to generate the chart correctly. Use the label `Children per woman` to describe total fertility and the label `Child deaths per 1000 born` to describe child mortality.\n",
    "\n",
    "<!--\n",
    "BEGIN QUESTION\n",
    "name: q1_7\n",
    "manual: false\n",
    "-->"
   ]
  },
  {
   "cell_type": "code",
   "execution_count": 20,
   "metadata": {
    "deletable": false
   },
   "outputs": [
    {
     "data": {
      "image/png": "[encoded data removed]",
      "text/plain": [
       "<Figure size 360x360 with 1 Axes>"
      ]
     },
     "metadata": {},
     "output_type": "display_data"
    }
   ],
   "source": [
    "bgd_fertility = fertility_over_time(\"bgd\", 1970)\n",
    "bgd_child_mortality = child_mortality.where(\"geo\", are.equal_to(\"bgd\")).where(\"time\", are.above_or_equal_to(1970)).drop(\"geo\").relabel(\"child_mortality_under_5_per_1000_born\", \"Child deaths per 1000 born\")\n",
    "#fertility_and_child_mortality = \n",
    "post_1969_fertility_and_child_mortality = bgd_fertility.join(\"Year\",bgd_child_mortality,\"time\")\n",
    "\n",
    "post_1969_fertility_and_child_mortality.scatter('Children per woman', 'Child deaths per 1000 born') # You should *not* change this line."
   ]
  },
  {
   "cell_type": "code",
   "execution_count": 21,
   "metadata": {
    "deletable": false,
    "editable": false
   },
   "outputs": [
    {
     "name": "stdout",
     "output_type": "stream",
     "text": [
      "~~~~~~~~~~~~~~~~~~~~~~~~~~~~~~~~~~~~~~~~~~~~~~~~~~~~~~~~~~~~~~~~~~~~~\n",
      "Running tests\n",
      "\n",
      "---------------------------------------------------------------------\n",
      "Test summary\n",
      "    Passed: 2\n",
      "    Failed: 0\n",
      "[ooooooooook] 100.0% passed\n",
      "\n"
     ]
    }
   ],
   "source": [
    "ok.grade(\"q1_7\");"
   ]
  },
  {
   "cell_type": "markdown",
   "metadata": {
    "deletable": false,
    "editable": false
   },
   "source": [
    "**Question 8.** In one or two sentences, describe the association (if any) that is illustrated by this scatter diagram. Does the diagram show that reduced child mortality causes parents to choose to have fewer children?\n",
    "\n",
    "<!--\n",
    "BEGIN QUESTION\n",
    "name: q1_8\n",
    "manual: true\n",
    "-->\n",
    "<!-- EXPORT TO PDF -->"
   ]
  },
  {
   "cell_type": "markdown",
   "metadata": {
    "deletable": false,
    "export_pdf": true,
    "manual_grade": true,
    "manual_problem_id": "global_pop_8"
   },
   "source": [
    "*As women have more children, child mortality rates also increase. The scatterplot does show that reduced child mortality is associated with fewer children, so there is an association. However, we cannot say there is a causal relationship simply by looking at the scatterplot because other factors might make women have less children. *"
   ]
  },
  {
   "cell_type": "markdown",
   "metadata": {},
   "source": [
    "### Checkpoint (due Friday 9/27)\n",
    "#### Congratulations, you have reached the checkpoint! Run the submit cell below to generate the checkpoint submission."
   ]
  },
  {
   "cell_type": "code",
   "execution_count": 22,
   "metadata": {},
   "outputs": [
    {
     "data": {
      "application/javascript": [
       "IPython.notebook.save_checkpoint();"
      ],
      "text/plain": [
       "<IPython.core.display.Javascript object>"
      ]
     },
     "metadata": {},
     "output_type": "display_data"
    },
    {
     "data": {
      "application/javascript": [
       "IPython.notebook.save_notebook();"
      ],
      "text/plain": [
       "<IPython.core.display.Javascript object>"
      ]
     },
     "metadata": {},
     "output_type": "display_data"
    },
    {
     "name": "stdout",
     "output_type": "stream",
     "text": [
      "Saving notebook... Saved 'project1.ipynb'.\n",
      "Submit... 100% complete\n",
      "Submission successful for user: rashnabuxey@berkeley.edu\n",
      "URL: https://okpy.org/cal/data8/fa19/project1/submissions/lROPpr\n",
      "\n"
     ]
    }
   ],
   "source": [
    "_ = ok.submit()"
   ]
  },
  {
   "cell_type": "markdown",
   "metadata": {
    "deletable": false,
    "editable": false
   },
   "source": [
    "### The World\n",
    "\n",
    "The change observed in Bangladesh since 1970 can also be observed in many other developing countries: health services improve, life expectancy increases, and child mortality decreases. At the same time, the fertility rate often plummets, and so the population growth rate decreases despite increasing longevity."
   ]
  },
  {
   "cell_type": "markdown",
   "metadata": {
    "deletable": false,
    "editable": false
   },
   "source": [
    "Run the cell below to generate two overlaid histograms, one for 1960 and one for 2010, that show the distributions of total fertility rates for these two years among all 201 countries in the `fertility` table."
   ]
  },
  {
   "cell_type": "code",
   "execution_count": 23,
   "metadata": {
    "deletable": false
   },
   "outputs": [
    {
     "data": {
      "image/png": "[encoded data removed]",
      "text/plain": [
       "<Figure size 432x288 with 1 Axes>"
      ]
     },
     "metadata": {},
     "output_type": "display_data"
    }
   ],
   "source": [
    "Table().with_columns(\n",
    "    '1960', fertility.where('time', 1960).column(2),\n",
    "    '2010', fertility.where('time', 2010).column(2)\n",
    ").hist(bins=np.arange(0, 10, 0.5), unit='child per woman')\n",
    "_ = plots.xlabel('Children per woman')\n",
    "_ = plots.ylabel('Percent per children per woman')\n",
    "_ = plots.xticks(np.arange(10))"
   ]
  },
  {
   "cell_type": "markdown",
   "metadata": {
    "deletable": false,
    "editable": false
   },
   "source": [
    "**Question 9.** Assign `fertility_statements` to an array of the numbers of each statement below that can be correctly inferred from these histograms.\n",
    "1. About the same number of countries had a fertility rate between 3.5 and 4.5 in both 1960 and 2010.\n",
    "1. In 2010, about 40% of countries had a fertility rate between 1.5 and 2.\n",
    "1. In 1960, less than 20% of countries had a fertility rate below 3.\n",
    "1. More countries had a fertility rate above 3 in 1960 than in 2010.\n",
    "1. At least half of countries had a fertility rate between 5 and 8 in 1960.\n",
    "1. At least half of countries had a fertility rate below 3 in 2010.\n",
    "\n",
    "<!--\n",
    "BEGIN QUESTION\n",
    "name: q1_9\n",
    "-->"
   ]
  },
  {
   "cell_type": "code",
   "execution_count": 24,
   "metadata": {
    "deletable": false
   },
   "outputs": [],
   "source": [
    "fertility_statements = 1,3,4,5,6"
   ]
  },
  {
   "cell_type": "code",
   "execution_count": 25,
   "metadata": {
    "deletable": false,
    "editable": false
   },
   "outputs": [
    {
     "name": "stdout",
     "output_type": "stream",
     "text": [
      "~~~~~~~~~~~~~~~~~~~~~~~~~~~~~~~~~~~~~~~~~~~~~~~~~~~~~~~~~~~~~~~~~~~~~\n",
      "Running tests\n",
      "\n",
      "---------------------------------------------------------------------\n",
      "Test summary\n",
      "    Passed: 1\n",
      "    Failed: 0\n",
      "[ooooooooook] 100.0% passed\n",
      "\n"
     ]
    }
   ],
   "source": [
    "ok.grade(\"q1_9\");"
   ]
  },
  {
   "cell_type": "markdown",
   "metadata": {
    "deletable": false,
    "editable": false
   },
   "source": [
    "**Question 10.** Draw a line plot of the world population from 1800 through 2005. The world population is the sum of all the country's populations. \n",
    "\n",
    "<!--\n",
    "BEGIN QUESTION\n",
    "name: q1_10\n",
    "manual: true\n",
    "-->\n",
    "<!-- EXPORT TO PDF -->"
   ]
  },
  {
   "cell_type": "code",
   "execution_count": 26,
   "metadata": {
    "deletable": false,
    "export_pdf": true,
    "manual_grade": true,
    "manual_problem_id": "global_pop_10"
   },
   "outputs": [
    {
     "data": {
      "image/png": "[encoded data removed]",
      "text/plain": [
       "<Figure size 432x288 with 1 Axes>"
      ]
     },
     "metadata": {},
     "output_type": "display_data"
    }
   ],
   "source": [
    "#Fill in code here\n",
    "\n",
    "new_pop = population.where(\"time\", are.between(1800, 2005)).group(\"time\", sum).drop(\"geo sum\")\n",
    "new_pop.plot(\"time\", \"population_total sum\")"
   ]
  },
  {
   "cell_type": "markdown",
   "metadata": {
    "deletable": false,
    "editable": false
   },
   "source": [
    "**Question 11.** Create a function `stats_for_year` that takes a `year` and returns a table of statistics. The table it returns should have four columns: `geo`, `population_total`, `children_per_woman_total_fertility`, and `child_mortality_under_5_per_1000_born`. Each row should contain one Alpha-3 country code and three statistics: population, fertility rate, and child mortality for that `year` from the `population`, `fertility` and `child_mortality` tables. Only include rows for which all three statistics are available for the country and year.\n",
    "\n",
    "In addition, restrict the result to country codes that appears in `big_50`, an array of the 50 most populous countries in 2010. This restriction will speed up computations later in the project.\n",
    "\n",
    "After you write `stats_for_year`, try calling `stats_for_year` on any year between 1960 and 2010. Try to understand the output of stats_for_year.\n",
    "\n",
    "*Hint*: The tests for this question are quite comprehensive, so if you pass the tests, your function is probably correct. However, without calling your function yourself and looking at the output, it will be very difficult to understand any problems you have, so try your best to write the function correctly and check that it works before you rely on the `ok` tests to confirm your work.\n",
    "\n",
    "<!--\n",
    "BEGIN QUESTION\n",
    "name: q1_11\n",
    "manual: false\n",
    "-->"
   ]
  },
  {
   "cell_type": "code",
   "execution_count": 27,
   "metadata": {
    "deletable": false
   },
   "outputs": [
    {
     "data": {
      "text/html": [
       "<table border=\"1\" class=\"dataframe\">\n",
       "    <thead>\n",
       "        <tr>\n",
       "            <th>geo</th> <th>population_total</th> <th>children_per_woman_total_fertility</th> <th>child_mortality_under_5_per_1000_born</th>\n",
       "        </tr>\n",
       "    </thead>\n",
       "    <tbody>\n",
       "        <tr>\n",
       "            <td>afg </td> <td>8994793         </td> <td>7.67                              </td> <td>362.4                                </td>\n",
       "        </tr>\n",
       "        <tr>\n",
       "            <td>arg </td> <td>20619075        </td> <td>3.11                              </td> <td>73.2                                 </td>\n",
       "        </tr>\n",
       "        <tr>\n",
       "            <td>bgd </td> <td>48200702        </td> <td>6.73                              </td> <td>264.3                                </td>\n",
       "        </tr>\n",
       "        <tr>\n",
       "            <td>bra </td> <td>72493585        </td> <td>6.21                              </td> <td>171.8                                </td>\n",
       "        </tr>\n",
       "        <tr>\n",
       "            <td>can </td> <td>17909232        </td> <td>3.91                              </td> <td>32.6                                 </td>\n",
       "        </tr>\n",
       "        <tr>\n",
       "            <td>chn </td> <td>644450173       </td> <td>3.99                              </td> <td>309                                  </td>\n",
       "        </tr>\n",
       "        <tr>\n",
       "            <td>cod </td> <td>15248246        </td> <td>6                                 </td> <td>266                                  </td>\n",
       "        </tr>\n",
       "        <tr>\n",
       "            <td>col </td> <td>16480384        </td> <td>6.81                              </td> <td>127.3                                </td>\n",
       "        </tr>\n",
       "        <tr>\n",
       "            <td>deu </td> <td>73179665        </td> <td>2.41                              </td> <td>42.87                                </td>\n",
       "        </tr>\n",
       "        <tr>\n",
       "            <td>dza </td> <td>11124892        </td> <td>7.65                              </td> <td>245.7                                </td>\n",
       "        </tr>\n",
       "    </tbody>\n",
       "</table>\n",
       "<p>... (40 rows omitted)</p>"
      ],
      "text/plain": [
       "geo  | population_total | children_per_woman_total_fertility | child_mortality_under_5_per_1000_born\n",
       "afg  | 8994793          | 7.67                               | 362.4\n",
       "arg  | 20619075         | 3.11                               | 73.2\n",
       "bgd  | 48200702         | 6.73                               | 264.3\n",
       "bra  | 72493585         | 6.21                               | 171.8\n",
       "can  | 17909232         | 3.91                               | 32.6\n",
       "chn  | 644450173        | 3.99                               | 309\n",
       "cod  | 15248246         | 6                                  | 266\n",
       "col  | 16480384         | 6.81                               | 127.3\n",
       "deu  | 73179665         | 2.41                               | 42.87\n",
       "dza  | 11124892         | 7.65                               | 245.7\n",
       "... (40 rows omitted)"
      ]
     },
     "execution_count": 27,
     "metadata": {},
     "output_type": "execute_result"
    }
   ],
   "source": [
    "# We first create a population table that only includes the \n",
    "# 50 countries with the largest 2010 populations. We focus on \n",
    "# these 50 countries only so that plotting later will run faster.\n",
    "big_50 = population.where('time', are.equal_to(2010)).sort(\"population_total\", descending=True).take(np.arange(50)).column('geo')\n",
    "population_of_big_50 = population.where('time', are.above(1959)).where('geo', are.contained_in(big_50))\n",
    "\n",
    "def stats_for_year(year):\n",
    "    \"\"\"Return a table of the stats for each country that year.\"\"\"\n",
    "    p = population_of_big_50.where('time', are.equal_to(year)).drop('time')\n",
    "    f = fertility.where('time', are.equal_to(year)).drop('time')\n",
    "    c = child_mortality.where('time', are.equal_to(year)).drop('time')\n",
    "    geo_join_1 = p.join(\"geo\", f, \"geo\")\n",
    "    return geo_join_1.join(\"geo\", c, \"geo\")\n",
    "\n",
    "\n",
    "stats_for_year(1960)"
   ]
  },
  {
   "cell_type": "code",
   "execution_count": 28,
   "metadata": {
    "deletable": false,
    "editable": false
   },
   "outputs": [
    {
     "name": "stdout",
     "output_type": "stream",
     "text": [
      "~~~~~~~~~~~~~~~~~~~~~~~~~~~~~~~~~~~~~~~~~~~~~~~~~~~~~~~~~~~~~~~~~~~~~\n",
      "Running tests\n",
      "\n",
      "---------------------------------------------------------------------\n",
      "Test summary\n",
      "    Passed: 4\n",
      "    Failed: 0\n",
      "[ooooooooook] 100.0% passed\n",
      "\n"
     ]
    }
   ],
   "source": [
    "ok.grade(\"q1_11\");"
   ]
  },
  {
   "cell_type": "markdown",
   "metadata": {
    "deletable": false,
    "editable": false
   },
   "source": [
    "**Question 12.** Create a table called `pop_by_decade` with two columns called `decade` and `population`. It has a row for each `year` since 1960 that starts a decade. The `population` column contains the total population of all countries included in the result of `stats_for_year(year)` for the first `year` of the decade. For example, 1960 is the first year of the 1960's decade. You should see that these countries contain most of the world's population.\n",
    "\n",
    "*Hint:* One approach is to define a function `pop_for_year` that computes this total population, then `apply` it to the `decade` column.  The `stats_for_year` function from the previous question may be useful here.\n",
    "\n",
    "This first test is just a sanity check for your helper function if you choose to use it. You will not lose points for not implementing the function `pop_for_year`.\n",
    "\n",
    "**Note:** The cell where you will generate the `pop_by_decade` table is below the cell where you can choose to define the helper function `pop_for_year`. You should define your `pop_by_decade` table in the cell that starts with the table `decades` being defined. \n",
    "\n",
    "<!--\n",
    "BEGIN QUESTION\n",
    "name: q1_12_0\n",
    "manual: false\n",
    "points: 0\n",
    "-->"
   ]
  },
  {
   "cell_type": "code",
   "execution_count": 29,
   "metadata": {},
   "outputs": [
    {
     "data": {
      "text/plain": [
       "3211487418"
      ]
     },
     "execution_count": 29,
     "metadata": {},
     "output_type": "execute_result"
    }
   ],
   "source": [
    "def pop_for_year(year):\n",
    "    '''create a table to show the population every decade since 1960'''\n",
    "    return population_of_big_50.where(\"time\", are.equal_to(year)).group(\"time\",sum).column(\"population_total sum\").item(0)\n",
    "\n",
    "pop_for_year(1970)"
   ]
  },
  {
   "cell_type": "code",
   "execution_count": 30,
   "metadata": {
    "deletable": false,
    "editable": false
   },
   "outputs": [
    {
     "name": "stdout",
     "output_type": "stream",
     "text": [
      "~~~~~~~~~~~~~~~~~~~~~~~~~~~~~~~~~~~~~~~~~~~~~~~~~~~~~~~~~~~~~~~~~~~~~\n",
      "Running tests\n",
      "\n",
      "---------------------------------------------------------------------\n",
      "Test summary\n",
      "    Passed: 3\n",
      "    Failed: 0\n",
      "[ooooooooook] 100.0% passed\n",
      "\n"
     ]
    }
   ],
   "source": [
    "ok.grade(\"q1_12_0\");"
   ]
  },
  {
   "cell_type": "markdown",
   "metadata": {
    "deletable": false,
    "editable": false
   },
   "source": [
    "Now that you've defined your helper function (if you've chosen to do so), define the `pop_by_decade` table.\n",
    "\n",
    "<!--\n",
    "BEGIN QUESTION\n",
    "name: q1_12\n",
    "manual: false\n",
    "-->"
   ]
  },
  {
   "cell_type": "code",
   "execution_count": 31,
   "metadata": {
    "deletable": false
   },
   "outputs": [
    {
     "data": {
      "text/html": [
       "<table border=\"1\" class=\"dataframe\">\n",
       "    <thead>\n",
       "        <tr>\n",
       "            <th>decade</th> <th>population</th>\n",
       "        </tr>\n",
       "    </thead>\n",
       "    <tbody>\n",
       "        <tr>\n",
       "            <td>1960  </td> <td>2,624,944,597</td>\n",
       "        </tr>\n",
       "        <tr>\n",
       "            <td>1970  </td> <td>3,211,487,418</td>\n",
       "        </tr>\n",
       "        <tr>\n",
       "            <td>1980  </td> <td>3,880,722,003</td>\n",
       "        </tr>\n",
       "        <tr>\n",
       "            <td>1990  </td> <td>4,648,434,558</td>\n",
       "        </tr>\n",
       "        <tr>\n",
       "            <td>2000  </td> <td>5,367,553,063</td>\n",
       "        </tr>\n",
       "        <tr>\n",
       "            <td>2010  </td> <td>6,040,810,517</td>\n",
       "        </tr>\n",
       "    </tbody>\n",
       "</table>"
      ],
      "text/plain": [
       "decade | population\n",
       "1960   | 2,624,944,597\n",
       "1970   | 3,211,487,418\n",
       "1980   | 3,880,722,003\n",
       "1990   | 4,648,434,558\n",
       "2000   | 5,367,553,063\n",
       "2010   | 6,040,810,517"
      ]
     },
     "execution_count": 31,
     "metadata": {},
     "output_type": "execute_result"
    }
   ],
   "source": [
    "decades = Table().with_column('decade', np.arange(1960, 2011, 10))\n",
    "\n",
    "pop_by_decade = decades.with_column(\"population\", decades.apply(pop_for_year, \"decade\"))\n",
    "pop_by_decade.set_format(1, NumberFormatter)"
   ]
  },
  {
   "cell_type": "code",
   "execution_count": 32,
   "metadata": {
    "deletable": false,
    "editable": false
   },
   "outputs": [
    {
     "name": "stdout",
     "output_type": "stream",
     "text": [
      "~~~~~~~~~~~~~~~~~~~~~~~~~~~~~~~~~~~~~~~~~~~~~~~~~~~~~~~~~~~~~~~~~~~~~\n",
      "Running tests\n",
      "\n",
      "---------------------------------------------------------------------\n",
      "Test summary\n",
      "    Passed: 2\n",
      "    Failed: 0\n",
      "[ooooooooook] 100.0% passed\n",
      "\n"
     ]
    }
   ],
   "source": [
    "ok.grade(\"q1_12\");"
   ]
  },
  {
   "cell_type": "markdown",
   "metadata": {
    "deletable": false,
    "editable": false
   },
   "source": [
    "The `countries` table describes various characteristics of countries. The `country` column contains the same codes as the `geo` column in each of the other data tables (`population`, `fertility`, and `child_mortality`). The `world_6region` column classifies each country into a region of the world. Run the cell below to inspect the data."
   ]
  },
  {
   "cell_type": "code",
   "execution_count": 33,
   "metadata": {},
   "outputs": [
    {
     "data": {
      "text/html": [
       "<table border=\"1\" class=\"dataframe\">\n",
       "    <thead>\n",
       "        <tr>\n",
       "            <th>country</th> <th>name</th> <th>world_6region</th>\n",
       "        </tr>\n",
       "    </thead>\n",
       "    <tbody>\n",
       "        <tr>\n",
       "            <td>afg      </td> <td>Afghanistan          </td> <td>south_asia              </td>\n",
       "        </tr>\n",
       "        <tr>\n",
       "            <td>akr_a_dhe</td> <td>Akrotiri and Dhekelia</td> <td>europe_central_asia     </td>\n",
       "        </tr>\n",
       "        <tr>\n",
       "            <td>alb      </td> <td>Albania              </td> <td>europe_central_asia     </td>\n",
       "        </tr>\n",
       "        <tr>\n",
       "            <td>dza      </td> <td>Algeria              </td> <td>middle_east_north_africa</td>\n",
       "        </tr>\n",
       "        <tr>\n",
       "            <td>asm      </td> <td>American Samoa       </td> <td>east_asia_pacific       </td>\n",
       "        </tr>\n",
       "        <tr>\n",
       "            <td>and      </td> <td>Andorra              </td> <td>europe_central_asia     </td>\n",
       "        </tr>\n",
       "        <tr>\n",
       "            <td>ago      </td> <td>Angola               </td> <td>sub_saharan_africa      </td>\n",
       "        </tr>\n",
       "        <tr>\n",
       "            <td>aia      </td> <td>Anguilla             </td> <td>america                 </td>\n",
       "        </tr>\n",
       "        <tr>\n",
       "            <td>atg      </td> <td>Antigua and Barbuda  </td> <td>america                 </td>\n",
       "        </tr>\n",
       "        <tr>\n",
       "            <td>arg      </td> <td>Argentina            </td> <td>america                 </td>\n",
       "        </tr>\n",
       "    </tbody>\n",
       "</table>\n",
       "<p>... (245 rows omitted)</p>"
      ],
      "text/plain": [
       "country   | name                  | world_6region\n",
       "afg       | Afghanistan           | south_asia\n",
       "akr_a_dhe | Akrotiri and Dhekelia | europe_central_asia\n",
       "alb       | Albania               | europe_central_asia\n",
       "dza       | Algeria               | middle_east_north_africa\n",
       "asm       | American Samoa        | east_asia_pacific\n",
       "and       | Andorra               | europe_central_asia\n",
       "ago       | Angola                | sub_saharan_africa\n",
       "aia       | Anguilla              | america\n",
       "atg       | Antigua and Barbuda   | america\n",
       "arg       | Argentina             | america\n",
       "... (245 rows omitted)"
      ]
     },
     "execution_count": 33,
     "metadata": {},
     "output_type": "execute_result"
    }
   ],
   "source": [
    "countries = Table.read_table('countries.csv').where('country', are.contained_in(population.group('geo').column('geo')))\n",
    "countries.select('country', 'name', 'world_6region')"
   ]
  },
  {
   "cell_type": "markdown",
   "metadata": {
    "deletable": false,
    "editable": false
   },
   "source": [
    "**Question 13.** Create a table called `region_counts` that has two columns, `region` and `count`. It should contain two columns: a region column and a count column that contains the number of countries in each region that appear in the result of `stats_for_year(1960)`. For example, one row would have `south_asia` as its `world_6region` value and an integer as its `count` value: the number of large South Asian countries for which we have population, fertility, and child mortality numbers from 1960.\n",
    "\n",
    "<!--\n",
    "BEGIN QUESTION\n",
    "name: q1_13\n",
    "-->"
   ]
  },
  {
   "cell_type": "code",
   "execution_count": 34,
   "metadata": {
    "deletable": false
   },
   "outputs": [
    {
     "data": {
      "text/html": [
       "<table border=\"1\" class=\"dataframe\">\n",
       "    <thead>\n",
       "        <tr>\n",
       "            <th>region</th> <th>count</th>\n",
       "        </tr>\n",
       "    </thead>\n",
       "    <tbody>\n",
       "        <tr>\n",
       "            <td>america                 </td> <td>8    </td>\n",
       "        </tr>\n",
       "        <tr>\n",
       "            <td>east_asia_pacific       </td> <td>10   </td>\n",
       "        </tr>\n",
       "        <tr>\n",
       "            <td>europe_central_asia     </td> <td>10   </td>\n",
       "        </tr>\n",
       "        <tr>\n",
       "            <td>middle_east_north_africa</td> <td>7    </td>\n",
       "        </tr>\n",
       "        <tr>\n",
       "            <td>south_asia              </td> <td>5    </td>\n",
       "        </tr>\n",
       "        <tr>\n",
       "            <td>sub_saharan_africa      </td> <td>10   </td>\n",
       "        </tr>\n",
       "    </tbody>\n",
       "</table>"
      ],
      "text/plain": [
       "region                   | count\n",
       "america                  | 8\n",
       "east_asia_pacific        | 10\n",
       "europe_central_asia      | 10\n",
       "middle_east_north_africa | 7\n",
       "south_asia               | 5\n",
       "sub_saharan_africa       | 10"
      ]
     },
     "execution_count": 34,
     "metadata": {},
     "output_type": "execute_result"
    }
   ],
   "source": [
    "combination = stats_for_year(1960).join(\"geo\", countries, \"country\")\n",
    "region_counts = combination.group(\"world_6region\").relabel(\"world_6region\", \"region\")\n",
    "region_counts"
   ]
  },
  {
   "cell_type": "code",
   "execution_count": 35,
   "metadata": {
    "deletable": false,
    "editable": false
   },
   "outputs": [
    {
     "name": "stdout",
     "output_type": "stream",
     "text": [
      "~~~~~~~~~~~~~~~~~~~~~~~~~~~~~~~~~~~~~~~~~~~~~~~~~~~~~~~~~~~~~~~~~~~~~\n",
      "Running tests\n",
      "\n",
      "---------------------------------------------------------------------\n",
      "Test summary\n",
      "    Passed: 2\n",
      "    Failed: 0\n",
      "[ooooooooook] 100.0% passed\n",
      "\n"
     ]
    }
   ],
   "source": [
    "ok.grade(\"q1_13\");"
   ]
  },
  {
   "cell_type": "markdown",
   "metadata": {
    "deletable": false,
    "editable": false
   },
   "source": [
    "The following scatter diagram compares total fertility rate and child mortality rate for each country in 1960. The area of each dot represents the population of the country, and the color represents its region of the world. Run the cell. Do you think you can identify any of the dots?"
   ]
  },
  {
   "cell_type": "code",
   "execution_count": 36,
   "metadata": {
    "deletable": false
   },
   "outputs": [
    {
     "data": {
      "image/png": "[encoded data removed]",
      "text/plain": [
       "<Figure size 360x360 with 1 Axes>"
      ]
     },
     "metadata": {},
     "output_type": "display_data"
    }
   ],
   "source": [
    "from functools import lru_cache as cache\n",
    "\n",
    "# This cache annotation makes sure that if the same year\n",
    "# is passed as an argument twice, the work of computing\n",
    "# the result is only carried out once.\n",
    "@cache(None)\n",
    "def stats_relabeled(year):\n",
    "    \"\"\"Relabeled and cached version of stats_for_year.\"\"\"\n",
    "    return stats_for_year(year).relabel(2, 'Children per woman').relabel(3, 'Child deaths per 1000 born')\n",
    "\n",
    "def fertility_vs_child_mortality(year):\n",
    "    \"\"\"Draw a color scatter diagram comparing child mortality and fertility.\"\"\"\n",
    "    with_region = stats_relabeled(year).join('geo', countries.select('country', 'world_6region'), 'country')\n",
    "    with_region.scatter(2, 3, sizes=1, group=4, s=500)\n",
    "    plots.xlim(0,10)\n",
    "    plots.ylim(-50, 500)\n",
    "    plots.title(year)\n",
    "\n",
    "fertility_vs_child_mortality(1960)"
   ]
  },
  {
   "cell_type": "markdown",
   "metadata": {
    "deletable": false,
    "editable": false
   },
   "source": [
    "**Question 14.** Assign `scatter_statements` to an array of the numbers of each statement below that can be inferred from this scatter diagram for 1960. \n",
    "1. As a whole, the `europe_central_asia` region had the lowest child mortality rate.\n",
    "1. The lowest child mortality rate of any country was from an `east_asia_pacific` country.\n",
    "1. Most countries had a fertility rate above 5.\n",
    "1. There was an association between child mortality and fertility.\n",
    "1. The two largest countries by population also had the two highest child mortality rate.\n",
    "\n",
    "<!--\n",
    "BEGIN QUESTION\n",
    "name: q1_14\n",
    "-->"
   ]
  },
  {
   "cell_type": "code",
   "execution_count": 37,
   "metadata": {
    "deletable": false
   },
   "outputs": [],
   "source": [
    "scatter_statements = 1,3,4"
   ]
  },
  {
   "cell_type": "code",
   "execution_count": 38,
   "metadata": {
    "deletable": false,
    "editable": false
   },
   "outputs": [
    {
     "name": "stdout",
     "output_type": "stream",
     "text": [
      "~~~~~~~~~~~~~~~~~~~~~~~~~~~~~~~~~~~~~~~~~~~~~~~~~~~~~~~~~~~~~~~~~~~~~\n",
      "Running tests\n",
      "\n",
      "---------------------------------------------------------------------\n",
      "Test summary\n",
      "    Passed: 1\n",
      "    Failed: 0\n",
      "[ooooooooook] 100.0% passed\n",
      "\n"
     ]
    }
   ],
   "source": [
    "ok.grade(\"q1_14\");"
   ]
  },
  {
   "cell_type": "markdown",
   "metadata": {
    "deletable": false
   },
   "source": [
    "The result of the cell below is interactive. Drag the slider to the right to see how countries have changed over time. You'll find that the great divide between so-called \"Western\" and \"developing\" countries that existed in the 1960's has nearly disappeared. This shift in fertility rates is the reason that the global population is expected to grow more slowly in the 21st century than it did in the 19th and 20th centuries.\n",
    "\n",
    "**Note:** Don't worry if a red warning pops up when running the cell below. You'll still be able to run the cell!"
   ]
  },
  {
   "cell_type": "code",
   "execution_count": 39,
   "metadata": {
    "deletable": false,
    "scrolled": false
   },
   "outputs": [
    {
     "name": "stderr",
     "output_type": "stream",
     "text": [
      "/srv/app/venv/lib/python3.6/site-packages/datascience/tables.py:193: FutureWarning: Implicit column method lookup is deprecated.\n",
      "  warnings.warn(\"Implicit column method lookup is deprecated.\", FutureWarning)\n"
     ]
    },
    {
     "data": {
      "application/vnd.jupyter.widget-view+json": {
       "model_id": "c7fc3aecb2f34c45b8442ceaef819aa3",
       "version_major": 2,
       "version_minor": 0
      },
      "text/plain": [
       "interactive(children=(IntSlider(value=1960, description='year', max=2015, min=1960), Output()), _dom_classes=(…"
      ]
     },
     "metadata": {},
     "output_type": "display_data"
    }
   ],
   "source": [
    "import ipywidgets as widgets\n",
    "\n",
    "# This part takes a few minutes to run because it \n",
    "# computes 55 tables in advance: one for each year.\n",
    "Table().with_column('Year', np.arange(1960, 2016)).apply(stats_relabeled, 'Year')\n",
    "\n",
    "_ = widgets.interact(fertility_vs_child_mortality, \n",
    "                     year=widgets.IntSlider(min=1960, max=2015, value=1960))"
   ]
  },
  {
   "cell_type": "markdown",
   "metadata": {
    "deletable": false,
    "editable": false
   },
   "source": [
    "Now is a great time to take a break and watch the same data presented by [Hans Rosling in a 2010 TEDx talk](https://www.gapminder.org/videos/reducing-child-mortality-a-moral-and-environmental-imperative) with smoother animation and witty commentary."
   ]
  },
  {
   "cell_type": "markdown",
   "metadata": {
    "deletable": false,
    "editable": false
   },
   "source": [
    "## 2. Global Poverty\n"
   ]
  },
  {
   "cell_type": "markdown",
   "metadata": {
    "deletable": false,
    "editable": false
   },
   "source": [
    "In 1800, 85% of the world's 1 billion people lived in *extreme poverty*, defined by the United Nations as \"a condition characterized by severe deprivation of basic human needs, including food, safe drinking water, sanitation facilities, health, shelter, education and information.\" A common measure of extreme poverty is a person living on less than \\$1.25 per day.\n",
    "\n",
    "In 2018, the proportion of people living in extreme poverty was estimated to be 8%. Although the world rate of extreme poverty has declined consistently for hundreds of years, the number of people living in extreme poverty is still over 600 million. The United Nations recently adopted an [ambitious goal](http://www.un.org/sustainabledevelopment/poverty/): \"By 2030, eradicate extreme poverty for all people everywhere.\"\n",
    "In this section, we will examine extreme poverty trends around the world."
   ]
  },
  {
   "cell_type": "markdown",
   "metadata": {
    "deletable": false,
    "editable": false
   },
   "source": [
    "First, load the population and poverty rate by country and year and the country descriptions. While the `population` table has values for every recent year for many countries, the `poverty` table only includes certain years for each country in which a measurement of the rate of extreme poverty was available."
   ]
  },
  {
   "cell_type": "code",
   "execution_count": 40,
   "metadata": {},
   "outputs": [
    {
     "data": {
      "text/html": [
       "<table border=\"1\" class=\"dataframe\">\n",
       "    <thead>\n",
       "        <tr>\n",
       "            <th>geo</th> <th>time</th> <th>population_total</th>\n",
       "        </tr>\n",
       "    </thead>\n",
       "    <tbody>\n",
       "        <tr>\n",
       "            <td>abw </td> <td>1800</td> <td>19286           </td>\n",
       "        </tr>\n",
       "        <tr>\n",
       "            <td>abw </td> <td>1801</td> <td>19286           </td>\n",
       "        </tr>\n",
       "        <tr>\n",
       "            <td>abw </td> <td>1802</td> <td>19286           </td>\n",
       "        </tr>\n",
       "        <tr>\n",
       "            <td>abw </td> <td>1803</td> <td>19286           </td>\n",
       "        </tr>\n",
       "        <tr>\n",
       "            <td>abw </td> <td>1804</td> <td>19286           </td>\n",
       "        </tr>\n",
       "        <tr>\n",
       "            <td>abw </td> <td>1805</td> <td>19286           </td>\n",
       "        </tr>\n",
       "        <tr>\n",
       "            <td>abw </td> <td>1806</td> <td>19286           </td>\n",
       "        </tr>\n",
       "        <tr>\n",
       "            <td>abw </td> <td>1807</td> <td>19286           </td>\n",
       "        </tr>\n",
       "        <tr>\n",
       "            <td>abw </td> <td>1808</td> <td>19286           </td>\n",
       "        </tr>\n",
       "        <tr>\n",
       "            <td>abw </td> <td>1809</td> <td>19286           </td>\n",
       "        </tr>\n",
       "    </tbody>\n",
       "</table>\n",
       "<p>... (87785 rows omitted)</p>"
      ],
      "text/plain": [
       "<IPython.core.display.HTML object>"
      ]
     },
     "metadata": {},
     "output_type": "display_data"
    }
   ],
   "source": [
    "population = Table.read_table('population.csv')\n",
    "countries = Table.read_table('countries.csv').where('country', are.contained_in(population.group('geo').column('geo')))\n",
    "poverty = Table.read_table('poverty.csv')\n",
    "population.show(10)"
   ]
  },
  {
   "cell_type": "markdown",
   "metadata": {
    "deletable": false,
    "editable": false
   },
   "source": [
    "**Question 1.** Assign `latest_poverty` to a three-column table with one row for each country that appears in the `poverty` table. The first column should contain the 3-letter code for the country. The second column should contain the most recent year for which an extreme poverty rate is available for the country. The third column should contain the poverty rate in that year. **Do not change the last line, so that the labels of your table are set correctly.**\n",
    "\n",
    "*Hint*: think about how ```group``` works: it does a sequential search of the table (from top to bottom) and collects values in the array in the order in which they appear, and then applies a function to that array. The `first` function may be helpful, but you are not required to use it.\n",
    "\n",
    "<!--\n",
    "BEGIN QUESTION\n",
    "name: q2_1\n",
    "-->"
   ]
  },
  {
   "cell_type": "code",
   "execution_count": 41,
   "metadata": {
    "deletable": false
   },
   "outputs": [
    {
     "data": {
      "text/html": [
       "<table border=\"1\" class=\"dataframe\">\n",
       "    <thead>\n",
       "        <tr>\n",
       "            <th>geo</th> <th>time</th> <th>poverty_percent</th>\n",
       "        </tr>\n",
       "    </thead>\n",
       "    <tbody>\n",
       "        <tr>\n",
       "            <td>ago </td> <td>2009</td> <td>43.37          </td>\n",
       "        </tr>\n",
       "        <tr>\n",
       "            <td>alb </td> <td>2012</td> <td>0.46           </td>\n",
       "        </tr>\n",
       "        <tr>\n",
       "            <td>arg </td> <td>2011</td> <td>1.41           </td>\n",
       "        </tr>\n",
       "        <tr>\n",
       "            <td>arm </td> <td>2012</td> <td>1.75           </td>\n",
       "        </tr>\n",
       "        <tr>\n",
       "            <td>aus </td> <td>2003</td> <td>1.36           </td>\n",
       "        </tr>\n",
       "        <tr>\n",
       "            <td>aut </td> <td>2004</td> <td>0.34           </td>\n",
       "        </tr>\n",
       "        <tr>\n",
       "            <td>aze </td> <td>2008</td> <td>0.31           </td>\n",
       "        </tr>\n",
       "        <tr>\n",
       "            <td>bdi </td> <td>2006</td> <td>81.32          </td>\n",
       "        </tr>\n",
       "        <tr>\n",
       "            <td>bel </td> <td>2000</td> <td>0.5            </td>\n",
       "        </tr>\n",
       "        <tr>\n",
       "            <td>ben </td> <td>2012</td> <td>51.61          </td>\n",
       "        </tr>\n",
       "    </tbody>\n",
       "</table>\n",
       "<p>... (135 rows omitted)</p>"
      ],
      "text/plain": [
       "geo  | time | poverty_percent\n",
       "ago  | 2009 | 43.37\n",
       "alb  | 2012 | 0.46\n",
       "arg  | 2011 | 1.41\n",
       "arm  | 2012 | 1.75\n",
       "aus  | 2003 | 1.36\n",
       "aut  | 2004 | 0.34\n",
       "aze  | 2008 | 0.31\n",
       "bdi  | 2006 | 81.32\n",
       "bel  | 2000 | 0.5\n",
       "ben  | 2012 | 51.61\n",
       "... (135 rows omitted)"
      ]
     },
     "execution_count": 41,
     "metadata": {},
     "output_type": "execute_result"
    }
   ],
   "source": [
    "def first(values):\n",
    "    return values.item(0)\n",
    "latest_poverty = poverty.sort(\"time\", descending=True).group(\"geo\", first)\n",
    "latest_poverty = latest_poverty.relabeled(0, 'geo').relabeled(1, 'time').relabeled(2, 'poverty_percent') # You should *not* change this line.\n",
    "latest_poverty"
   ]
  },
  {
   "cell_type": "code",
   "execution_count": 42,
   "metadata": {
    "deletable": false,
    "editable": false
   },
   "outputs": [
    {
     "name": "stdout",
     "output_type": "stream",
     "text": [
      "~~~~~~~~~~~~~~~~~~~~~~~~~~~~~~~~~~~~~~~~~~~~~~~~~~~~~~~~~~~~~~~~~~~~~\n",
      "Running tests\n",
      "\n",
      "---------------------------------------------------------------------\n",
      "Test summary\n",
      "    Passed: 2\n",
      "    Failed: 0\n",
      "[ooooooooook] 100.0% passed\n",
      "\n"
     ]
    }
   ],
   "source": [
    "ok.grade(\"q2_1\");"
   ]
  },
  {
   "cell_type": "markdown",
   "metadata": {
    "deletable": false,
    "editable": false
   },
   "source": [
    "**Question 2.** Using both `latest_poverty` and `population`, create a four-column table called `recent_poverty_total` with one row for each country in `latest_poverty`. The four columns should have the following labels and contents:\n",
    "1. `geo` contains the 3-letter country code,\n",
    "1. `poverty_percent` contains the most recent poverty percent,\n",
    "1. `population_total` contains the population of the country in 2010,\n",
    "1. `poverty_total` contains the number of people in poverty **rounded to the nearest integer**, based on the 2010 population and most recent poverty rate.\n",
    "\n",
    "<!--\n",
    "BEGIN QUESTION\n",
    "name: q2_2\n",
    "-->"
   ]
  },
  {
   "cell_type": "code",
   "execution_count": 43,
   "metadata": {
    "deletable": false
   },
   "outputs": [
    {
     "data": {
      "text/html": [
       "<table border=\"1\" class=\"dataframe\">\n",
       "    <thead>\n",
       "        <tr>\n",
       "            <th>geo</th> <th>poverty_percent</th> <th>population_total</th> <th>poverty_total</th>\n",
       "        </tr>\n",
       "    </thead>\n",
       "    <tbody>\n",
       "        <tr>\n",
       "            <td>ago </td> <td>43.37          </td> <td>21219954        </td> <td>9.20309e+06  </td>\n",
       "        </tr>\n",
       "        <tr>\n",
       "            <td>alb </td> <td>0.46           </td> <td>2901883         </td> <td>13349        </td>\n",
       "        </tr>\n",
       "        <tr>\n",
       "            <td>arg </td> <td>1.41           </td> <td>41222875        </td> <td>581243       </td>\n",
       "        </tr>\n",
       "        <tr>\n",
       "            <td>arm </td> <td>1.75           </td> <td>2963496         </td> <td>51861        </td>\n",
       "        </tr>\n",
       "        <tr>\n",
       "            <td>aus </td> <td>1.36           </td> <td>22162863        </td> <td>301415       </td>\n",
       "        </tr>\n",
       "        <tr>\n",
       "            <td>aut </td> <td>0.34           </td> <td>8391986         </td> <td>28533        </td>\n",
       "        </tr>\n",
       "        <tr>\n",
       "            <td>aze </td> <td>0.31           </td> <td>9099893         </td> <td>28210        </td>\n",
       "        </tr>\n",
       "        <tr>\n",
       "            <td>bdi </td> <td>81.32          </td> <td>9461117         </td> <td>7.69378e+06  </td>\n",
       "        </tr>\n",
       "        <tr>\n",
       "            <td>bel </td> <td>0.5            </td> <td>10929978        </td> <td>54650        </td>\n",
       "        </tr>\n",
       "        <tr>\n",
       "            <td>ben </td> <td>51.61          </td> <td>9509798         </td> <td>4.90801e+06  </td>\n",
       "        </tr>\n",
       "    </tbody>\n",
       "</table>\n",
       "<p>... (135 rows omitted)</p>"
      ],
      "text/plain": [
       "geo  | poverty_percent | population_total | poverty_total\n",
       "ago  | 43.37           | 21219954         | 9.20309e+06\n",
       "alb  | 0.46            | 2901883          | 13349\n",
       "arg  | 1.41            | 41222875         | 581243\n",
       "arm  | 1.75            | 2963496          | 51861\n",
       "aus  | 1.36            | 22162863         | 301415\n",
       "aut  | 0.34            | 8391986          | 28533\n",
       "aze  | 0.31            | 9099893          | 28210\n",
       "bdi  | 81.32           | 9461117          | 7.69378e+06\n",
       "bel  | 0.5             | 10929978         | 54650\n",
       "ben  | 51.61           | 9509798          | 4.90801e+06\n",
       "... (135 rows omitted)"
      ]
     },
     "execution_count": 43,
     "metadata": {},
     "output_type": "execute_result"
    }
   ],
   "source": [
    "poverty_and_pop = population.where(\"time\", are.equal_to(2010))\n",
    "\n",
    "with_p_percent = latest_poverty.join('geo',poverty_and_pop,'geo').drop('time').drop(\"time_2\")\n",
    "recent_poverty_total = with_p_percent.with_column(\"poverty_total\",np.round(with_p_percent.column(\"population_total\")*(with_p_percent.column(\"poverty_percent\")/100)))\n",
    "recent_poverty_total\n"
   ]
  },
  {
   "cell_type": "code",
   "execution_count": 44,
   "metadata": {
    "deletable": false,
    "editable": false
   },
   "outputs": [
    {
     "name": "stdout",
     "output_type": "stream",
     "text": [
      "~~~~~~~~~~~~~~~~~~~~~~~~~~~~~~~~~~~~~~~~~~~~~~~~~~~~~~~~~~~~~~~~~~~~~\n",
      "Running tests\n",
      "\n",
      "---------------------------------------------------------------------\n",
      "Test summary\n",
      "    Passed: 3\n",
      "    Failed: 0\n",
      "[ooooooooook] 100.0% passed\n",
      "\n"
     ]
    }
   ],
   "source": [
    "ok.grade(\"q2_2\");"
   ]
  },
  {
   "cell_type": "markdown",
   "metadata": {
    "deletable": false,
    "editable": false
   },
   "source": [
    "**Question 3.** Assign the name `poverty_percent` to the known percentage of the world’s 2010 population that were living in extreme poverty. Assume that the `poverty_total` numbers in the `recent_poverty_total` table describe **all** people in 2010 living in extreme poverty. You should find a number that is above the 2018 global estimate of 8%, since many country-specific poverty rates are older than 2018.\n",
    "\n",
    "*Hint*: The sum of the `population_total` column in the `recent_poverty_total` table is not the world population, because only a subset of the world's countries are included in the `recent_poverty_total` table (only some countries have known poverty rates). Use the `population` table to compute the world's 2010 total population..\n",
    "\n",
    "<!--\n",
    "BEGIN QUESTION\n",
    "name: q2_3\n",
    "-->"
   ]
  },
  {
   "cell_type": "code",
   "execution_count": 45,
   "metadata": {
    "deletable": false
   },
   "outputs": [
    {
     "data": {
      "text/plain": [
       "14.299370218520854"
      ]
     },
     "execution_count": 45,
     "metadata": {},
     "output_type": "execute_result"
    }
   ],
   "source": [
    "total_pop_array = population.where(\"time\", are.equal_to(2010)).column(\"population_total\")\n",
    "total_pop = sum (total_pop_array)\n",
    "\n",
    "total_poverty = sum(recent_poverty_total.column(\"poverty_total\"))\n",
    "\n",
    "poverty_percent = (total_poverty/total_pop)*100\n",
    "poverty_percent"
   ]
  },
  {
   "cell_type": "code",
   "execution_count": 46,
   "metadata": {
    "deletable": false,
    "editable": false
   },
   "outputs": [
    {
     "name": "stdout",
     "output_type": "stream",
     "text": [
      "~~~~~~~~~~~~~~~~~~~~~~~~~~~~~~~~~~~~~~~~~~~~~~~~~~~~~~~~~~~~~~~~~~~~~\n",
      "Running tests\n",
      "\n",
      "---------------------------------------------------------------------\n",
      "Test summary\n",
      "    Passed: 1\n",
      "    Failed: 0\n",
      "[ooooooooook] 100.0% passed\n",
      "\n"
     ]
    }
   ],
   "source": [
    "ok.grade(\"q2_3\");"
   ]
  },
  {
   "cell_type": "markdown",
   "metadata": {
    "deletable": false,
    "editable": false
   },
   "source": [
    "The `countries` table includes not only the name and region of countries, but also their positions on the globe."
   ]
  },
  {
   "cell_type": "code",
   "execution_count": 47,
   "metadata": {
    "deletable": false,
    "editable": false
   },
   "outputs": [
    {
     "data": {
      "text/html": [
       "<table border=\"1\" class=\"dataframe\">\n",
       "    <thead>\n",
       "        <tr>\n",
       "            <th>country</th> <th>name</th> <th>world_4region</th> <th>latitude</th> <th>longitude</th>\n",
       "        </tr>\n",
       "    </thead>\n",
       "    <tbody>\n",
       "        <tr>\n",
       "            <td>afg      </td> <td>Afghanistan          </td> <td>asia         </td> <td>33      </td> <td>66       </td>\n",
       "        </tr>\n",
       "        <tr>\n",
       "            <td>akr_a_dhe</td> <td>Akrotiri and Dhekelia</td> <td>europe       </td> <td>nan     </td> <td>nan      </td>\n",
       "        </tr>\n",
       "        <tr>\n",
       "            <td>alb      </td> <td>Albania              </td> <td>europe       </td> <td>41      </td> <td>20       </td>\n",
       "        </tr>\n",
       "        <tr>\n",
       "            <td>dza      </td> <td>Algeria              </td> <td>africa       </td> <td>28      </td> <td>3        </td>\n",
       "        </tr>\n",
       "        <tr>\n",
       "            <td>asm      </td> <td>American Samoa       </td> <td>asia         </td> <td>-11.056 </td> <td>-171.082 </td>\n",
       "        </tr>\n",
       "        <tr>\n",
       "            <td>and      </td> <td>Andorra              </td> <td>europe       </td> <td>42.5078 </td> <td>1.52109  </td>\n",
       "        </tr>\n",
       "        <tr>\n",
       "            <td>ago      </td> <td>Angola               </td> <td>africa       </td> <td>-12.5   </td> <td>18.5     </td>\n",
       "        </tr>\n",
       "        <tr>\n",
       "            <td>aia      </td> <td>Anguilla             </td> <td>americas     </td> <td>18.2167 </td> <td>-63.05   </td>\n",
       "        </tr>\n",
       "        <tr>\n",
       "            <td>atg      </td> <td>Antigua and Barbuda  </td> <td>americas     </td> <td>17.05   </td> <td>-61.8    </td>\n",
       "        </tr>\n",
       "        <tr>\n",
       "            <td>arg      </td> <td>Argentina            </td> <td>americas     </td> <td>-34     </td> <td>-64      </td>\n",
       "        </tr>\n",
       "    </tbody>\n",
       "</table>\n",
       "<p>... (245 rows omitted)</p>"
      ],
      "text/plain": [
       "country   | name                  | world_4region | latitude | longitude\n",
       "afg       | Afghanistan           | asia          | 33       | 66\n",
       "akr_a_dhe | Akrotiri and Dhekelia | europe        | nan      | nan\n",
       "alb       | Albania               | europe        | 41       | 20\n",
       "dza       | Algeria               | africa        | 28       | 3\n",
       "asm       | American Samoa        | asia          | -11.056  | -171.082\n",
       "and       | Andorra               | europe        | 42.5078  | 1.52109\n",
       "ago       | Angola                | africa        | -12.5    | 18.5\n",
       "aia       | Anguilla              | americas      | 18.2167  | -63.05\n",
       "atg       | Antigua and Barbuda   | americas      | 17.05    | -61.8\n",
       "arg       | Argentina             | americas      | -34      | -64\n",
       "... (245 rows omitted)"
      ]
     },
     "execution_count": 47,
     "metadata": {},
     "output_type": "execute_result"
    }
   ],
   "source": [
    "countries.select('country', 'name', 'world_4region', 'latitude', 'longitude')"
   ]
  },
  {
   "cell_type": "code",
   "execution_count": 48,
   "metadata": {},
   "outputs": [
    {
     "data": {
      "text/html": [
       "<table border=\"1\" class=\"dataframe\">\n",
       "    <thead>\n",
       "        <tr>\n",
       "            <th>country</th> <th>name</th> <th>world_4region</th> <th>latitude</th> <th>longitude</th>\n",
       "        </tr>\n",
       "    </thead>\n",
       "    <tbody>\n",
       "        <tr>\n",
       "            <td>afg      </td> <td>Afghanistan          </td> <td>asia         </td> <td>33      </td> <td>66       </td>\n",
       "        </tr>\n",
       "        <tr>\n",
       "            <td>akr_a_dhe</td> <td>Akrotiri and Dhekelia</td> <td>europe       </td> <td>nan     </td> <td>nan      </td>\n",
       "        </tr>\n",
       "        <tr>\n",
       "            <td>alb      </td> <td>Albania              </td> <td>europe       </td> <td>41      </td> <td>20       </td>\n",
       "        </tr>\n",
       "        <tr>\n",
       "            <td>dza      </td> <td>Algeria              </td> <td>africa       </td> <td>28      </td> <td>3        </td>\n",
       "        </tr>\n",
       "        <tr>\n",
       "            <td>asm      </td> <td>American Samoa       </td> <td>asia         </td> <td>-11.056 </td> <td>-171.082 </td>\n",
       "        </tr>\n",
       "        <tr>\n",
       "            <td>and      </td> <td>Andorra              </td> <td>europe       </td> <td>42.5078 </td> <td>1.52109  </td>\n",
       "        </tr>\n",
       "        <tr>\n",
       "            <td>ago      </td> <td>Angola               </td> <td>africa       </td> <td>-12.5   </td> <td>18.5     </td>\n",
       "        </tr>\n",
       "        <tr>\n",
       "            <td>aia      </td> <td>Anguilla             </td> <td>americas     </td> <td>18.2167 </td> <td>-63.05   </td>\n",
       "        </tr>\n",
       "        <tr>\n",
       "            <td>atg      </td> <td>Antigua and Barbuda  </td> <td>americas     </td> <td>17.05   </td> <td>-61.8    </td>\n",
       "        </tr>\n",
       "        <tr>\n",
       "            <td>arg      </td> <td>Argentina            </td> <td>americas     </td> <td>-34     </td> <td>-64      </td>\n",
       "        </tr>\n",
       "    </tbody>\n",
       "</table>\n",
       "<p>... (245 rows omitted)</p>"
      ],
      "text/plain": [
       "country   | name                  | world_4region | latitude | longitude\n",
       "afg       | Afghanistan           | asia          | 33       | 66\n",
       "akr_a_dhe | Akrotiri and Dhekelia | europe        | nan      | nan\n",
       "alb       | Albania               | europe        | 41       | 20\n",
       "dza       | Algeria               | africa        | 28       | 3\n",
       "asm       | American Samoa        | asia          | -11.056  | -171.082\n",
       "and       | Andorra               | europe        | 42.5078  | 1.52109\n",
       "ago       | Angola                | africa        | -12.5    | 18.5\n",
       "aia       | Anguilla              | americas      | 18.2167  | -63.05\n",
       "atg       | Antigua and Barbuda   | americas      | 17.05    | -61.8\n",
       "arg       | Argentina             | americas      | -34      | -64\n",
       "... (245 rows omitted)"
      ]
     },
     "execution_count": 48,
     "metadata": {},
     "output_type": "execute_result"
    }
   ],
   "source": [
    "specific_country = countries.select('country', 'name', 'world_4region', 'latitude', 'longitude')\n",
    "specific_country"
   ]
  },
  {
   "cell_type": "markdown",
   "metadata": {
    "deletable": false,
    "editable": false
   },
   "source": [
    "**Question 4.** Using both `countries` and `recent_poverty_total`, create a five-column table called `poverty_map` with one row for every country in `recent_poverty_total`.  The five columns should have the following labels and contents:\n",
    "1. `latitude` contains the country's latitude,\n",
    "1. `longitude` contains the country's longitude,\n",
    "1. `name` contains the country's name,\n",
    "1. `region` contains the country's region from the `world_4region` column of `countries`,\n",
    "1. `poverty_total` contains the country's poverty total.\n",
    "\n",
    "<!--\n",
    "BEGIN QUESTION\n",
    "name: q2_4\n",
    "-->"
   ]
  },
  {
   "cell_type": "code",
   "execution_count": 49,
   "metadata": {
    "deletable": false
   },
   "outputs": [
    {
     "data": {
      "text/html": [
       "<table border=\"1\" class=\"dataframe\">\n",
       "    <thead>\n",
       "        <tr>\n",
       "            <th>latitude</th> <th>longitude</th> <th>name</th> <th>region</th> <th>poverty_total</th>\n",
       "        </tr>\n",
       "    </thead>\n",
       "    <tbody>\n",
       "        <tr>\n",
       "            <td>-12.5   </td> <td>18.5     </td> <td>Angola    </td> <td>africa  </td> <td>9.20309e+06  </td>\n",
       "        </tr>\n",
       "        <tr>\n",
       "            <td>41      </td> <td>20       </td> <td>Albania   </td> <td>europe  </td> <td>13349        </td>\n",
       "        </tr>\n",
       "        <tr>\n",
       "            <td>-34     </td> <td>-64      </td> <td>Argentina </td> <td>americas</td> <td>581243       </td>\n",
       "        </tr>\n",
       "        <tr>\n",
       "            <td>40.25   </td> <td>45       </td> <td>Armenia   </td> <td>europe  </td> <td>51861        </td>\n",
       "        </tr>\n",
       "        <tr>\n",
       "            <td>-25     </td> <td>135      </td> <td>Australia </td> <td>asia    </td> <td>301415       </td>\n",
       "        </tr>\n",
       "        <tr>\n",
       "            <td>47.3333 </td> <td>13.3333  </td> <td>Austria   </td> <td>europe  </td> <td>28533        </td>\n",
       "        </tr>\n",
       "        <tr>\n",
       "            <td>40.5    </td> <td>47.5     </td> <td>Azerbaijan</td> <td>europe  </td> <td>28210        </td>\n",
       "        </tr>\n",
       "        <tr>\n",
       "            <td>-3.5    </td> <td>30       </td> <td>Burundi   </td> <td>africa  </td> <td>7.69378e+06  </td>\n",
       "        </tr>\n",
       "        <tr>\n",
       "            <td>50.75   </td> <td>4.5      </td> <td>Belgium   </td> <td>europe  </td> <td>54650        </td>\n",
       "        </tr>\n",
       "        <tr>\n",
       "            <td>9.5     </td> <td>2.25     </td> <td>Benin     </td> <td>africa  </td> <td>4.90801e+06  </td>\n",
       "        </tr>\n",
       "    </tbody>\n",
       "</table>\n",
       "<p>... (135 rows omitted)</p>"
      ],
      "text/plain": [
       "latitude | longitude | name       | region   | poverty_total\n",
       "-12.5    | 18.5      | Angola     | africa   | 9.20309e+06\n",
       "41       | 20        | Albania    | europe   | 13349\n",
       "-34      | -64       | Argentina  | americas | 581243\n",
       "40.25    | 45        | Armenia    | europe   | 51861\n",
       "-25      | 135       | Australia  | asia     | 301415\n",
       "47.3333  | 13.3333   | Austria    | europe   | 28533\n",
       "40.5     | 47.5      | Azerbaijan | europe   | 28210\n",
       "-3.5     | 30        | Burundi    | africa   | 7.69378e+06\n",
       "50.75    | 4.5       | Belgium    | europe   | 54650\n",
       "9.5      | 2.25      | Benin      | africa   | 4.90801e+06\n",
       "... (135 rows omitted)"
      ]
     },
     "execution_count": 49,
     "metadata": {},
     "output_type": "execute_result"
    }
   ],
   "source": [
    "tbl_1 = specific_country.join(\"country\", recent_poverty_total, \"geo\").drop(\"country\").drop(\"poverty_percent\").drop(\"population_total\")\n",
    "\n",
    "\n",
    "poverty_map = Table().with_columns(\"latitude\", tbl_1.column(\"latitude\"),\n",
    "                                  \"longitude\", tbl_1.column(\"longitude\"),\n",
    "                                  \"name\", tbl_1.column(\"name\"),\n",
    "                                  \"region\", tbl_1.column(\"world_4region\"),\n",
    "                                  \"poverty_total\", tbl_1.column(\"poverty_total\"))\n",
    "            \n",
    "poverty_map"
   ]
  },
  {
   "cell_type": "code",
   "execution_count": 50,
   "metadata": {
    "deletable": false,
    "editable": false
   },
   "outputs": [
    {
     "name": "stdout",
     "output_type": "stream",
     "text": [
      "~~~~~~~~~~~~~~~~~~~~~~~~~~~~~~~~~~~~~~~~~~~~~~~~~~~~~~~~~~~~~~~~~~~~~\n",
      "Running tests\n",
      "\n",
      "---------------------------------------------------------------------\n",
      "Test summary\n",
      "    Passed: 2\n",
      "    Failed: 0\n",
      "[ooooooooook] 100.0% passed\n",
      "\n"
     ]
    }
   ],
   "source": [
    "ok.grade(\"q2_4\");"
   ]
  },
  {
   "cell_type": "markdown",
   "metadata": {
    "deletable": false,
    "editable": false
   },
   "source": [
    "Run the cell below to draw a map of the world in which the areas of circles represent the number of people living in extreme poverty. Double-click on the map to zoom in."
   ]
  },
  {
   "cell_type": "code",
   "execution_count": 297,
   "metadata": {
    "deletable": false,
    "editable": false
   },
   "outputs": [
    {
     "data": {
      "text/html": [
       "<div style=\"width:100%;\"><div style=\"position:relative;width:100%;height:0;padding-bottom:60%;\"><iframe src=\"data:text/html;charset=utf-8;base64,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\" style=\"position:absolute;width:100%;height:100%;left:0;top:0;border:none !important;\" allowfullscreen webkitallowfullscreen mozallowfullscreen></iframe></div></div>"
      ],
      "text/plain": [
       "<datascience.maps.Map at 0x7f4ce2e95358>"
      ]
     },
     "execution_count": 297,
     "metadata": {},
     "output_type": "execute_result"
    }
   ],
   "source": [
    "# It may take a few seconds to generate this map.\n",
    "colors = {'africa': 'blue', 'europe': 'black', 'asia': 'red', 'americas': 'green'}\n",
    "scaled = poverty_map.with_columns(\n",
    "    'poverty_total', 1e-4 * poverty_map.column('poverty_total'),\n",
    "    'region', poverty_map.apply(colors.get, 'region')\n",
    ")\n",
    "Circle.map_table(scaled)"
   ]
  },
  {
   "cell_type": "markdown",
   "metadata": {
    "deletable": false,
    "editable": false
   },
   "source": [
    "Although people live in extreme poverty throughout the world (with more than 5 million in the United States), the largest numbers are in Asia and Africa."
   ]
  },
  {
   "cell_type": "markdown",
   "metadata": {
    "deletable": false,
    "editable": false
   },
   "source": [
    "**Question 5.** Assign `largest` to a two-column table with the `name` (not the 3-letter code) and `poverty_total` of the 10 countries with the largest number of people living in extreme poverty.\n",
    "\n",
    "<!--\n",
    "BEGIN QUESTION\n",
    "name: q2_5\n",
    "-->"
   ]
  },
  {
   "cell_type": "code",
   "execution_count": 51,
   "metadata": {
    "deletable": false
   },
   "outputs": [
    {
     "data": {
      "text/html": [
       "<table border=\"1\" class=\"dataframe\">\n",
       "    <thead>\n",
       "        <tr>\n",
       "            <th>name</th> <th>poverty_total</th>\n",
       "        </tr>\n",
       "    </thead>\n",
       "    <tbody>\n",
       "        <tr>\n",
       "            <td>India           </td> <td>290,881,638.00</td>\n",
       "        </tr>\n",
       "        <tr>\n",
       "            <td>Nigeria         </td> <td>98,891,167.00 </td>\n",
       "        </tr>\n",
       "        <tr>\n",
       "            <td>China           </td> <td>83,944,643.00 </td>\n",
       "        </tr>\n",
       "        <tr>\n",
       "            <td>Bangladesh      </td> <td>65,574,256.00 </td>\n",
       "        </tr>\n",
       "        <tr>\n",
       "            <td>Congo, Dem. Rep.</td> <td>57,841,438.00 </td>\n",
       "        </tr>\n",
       "        <tr>\n",
       "            <td>Indonesia       </td> <td>39,141,326.00 </td>\n",
       "        </tr>\n",
       "        <tr>\n",
       "            <td>Ethiopia        </td> <td>32,213,991.00 </td>\n",
       "        </tr>\n",
       "        <tr>\n",
       "            <td>Pakistan        </td> <td>21,663,595.00 </td>\n",
       "        </tr>\n",
       "        <tr>\n",
       "            <td>Tanzania        </td> <td>19,847,979.00 </td>\n",
       "        </tr>\n",
       "        <tr>\n",
       "            <td>Madagascar      </td> <td>18,480,426.00 </td>\n",
       "        </tr>\n",
       "    </tbody>\n",
       "</table>"
      ],
      "text/plain": [
       "name             | poverty_total\n",
       "India            | 290,881,638.00\n",
       "Nigeria          | 98,891,167.00\n",
       "China            | 83,944,643.00\n",
       "Bangladesh       | 65,574,256.00\n",
       "Congo, Dem. Rep. | 57,841,438.00\n",
       "Indonesia        | 39,141,326.00\n",
       "Ethiopia         | 32,213,991.00\n",
       "Pakistan         | 21,663,595.00\n",
       "Tanzania         | 19,847,979.00\n",
       "Madagascar       | 18,480,426.00"
      ]
     },
     "execution_count": 51,
     "metadata": {},
     "output_type": "execute_result"
    }
   ],
   "source": [
    "largest = poverty_map.sort(\"poverty_total\", descending=True).drop(\"latitude\").drop(\"longitude\").drop(\"region\").take(np.arange(10))\n",
    "largest.set_format('poverty_total', NumberFormatter)"
   ]
  },
  {
   "cell_type": "code",
   "execution_count": 52,
   "metadata": {
    "deletable": false,
    "editable": false
   },
   "outputs": [
    {
     "name": "stdout",
     "output_type": "stream",
     "text": [
      "~~~~~~~~~~~~~~~~~~~~~~~~~~~~~~~~~~~~~~~~~~~~~~~~~~~~~~~~~~~~~~~~~~~~~\n",
      "Running tests\n",
      "\n",
      "---------------------------------------------------------------------\n",
      "Test summary\n",
      "    Passed: 3\n",
      "    Failed: 0\n",
      "[ooooooooook] 100.0% passed\n",
      "\n"
     ]
    }
   ],
   "source": [
    "ok.grade(\"q2_5\");"
   ]
  },
  {
   "cell_type": "markdown",
   "metadata": {
    "deletable": false
   },
   "source": [
    "**Question 6.** Write a function called `poverty_timeline` that takes **the name of a country** as its argument. It should draw a line plot of the number of people living in poverty in that country with time on the horizontal axis. The line plot should have a point for each row in the `poverty` table for that country. To compute the population living in poverty from a poverty percentage, multiply by the population of the country **in that year**.\n",
    "\n",
    "*Hint:* This question is long. Feel free to create cells and experiment. "
   ]
  },
  {
   "cell_type": "code",
   "execution_count": 53,
   "metadata": {},
   "outputs": [
    {
     "data": {
      "image/png": "[encoded data removed]",
      "text/plain": [
       "<Figure size 432x288 with 1 Axes>"
      ]
     },
     "metadata": {},
     "output_type": "display_data"
    }
   ],
   "source": [
    "def pop(geo, time, poverty_percent):\n",
    "    return population.where(\"geo\", are.equal_to(geo)).where(\"time\", are.equal_to(time)).column(\"population_total\").item(0)*(poverty_percent/100)\n",
    "\n",
    "\n",
    "def poverty_timeline(country):\n",
    "    '''Draw a timeline of people living in extreme poverty in a country.'''\n",
    "    geo = countries.where(\"name\", are.equal_to(country)).column(\"country\").item(0)\n",
    "    total_pov = poverty.where(\"geo\", are.equal_to(geo))\n",
    "    return Table().with_columns(\"Year\", total_pov.column(1),\n",
    "                               \"Poverty\", total_pov.apply(pop,\"geo\", \"time\", \"extreme_poverty_percent_people_below_125_a_day\")).plot(0,1)\n",
    "\n",
    "poverty_timeline(\"Albania\")"
   ]
  },
  {
   "cell_type": "markdown",
   "metadata": {
    "deletable": false,
    "editable": false
   },
   "source": [
    "Finally, draw the timelines below to see how the world is changing. You can check your work by comparing your graphs to the ones on [gapminder.org](https://www.gapminder.org/tools/#$state$entities$show$country$/$in@=ind;;;;&marker$axis_y$which=number_of_people_in_poverty&scaleType=linear&spaceRef:null;;;&chart-type=linechart).\n",
    "\n",
    "<!--\n",
    "BEGIN QUESTION\n",
    "name: q2_6\n",
    "manual: true\n",
    "-->\n",
    "<!-- EXPORT TO PDF -->"
   ]
  },
  {
   "cell_type": "code",
   "execution_count": 54,
   "metadata": {
    "export_pdf": true
   },
   "outputs": [
    {
     "data": {
      "image/png": "[encoded data removed]",
      "text/plain": [
       "<Figure size 432x288 with 1 Axes>"
      ]
     },
     "metadata": {},
     "output_type": "display_data"
    },
    {
     "data": {
      "image/png": "[encoded data removed]",
      "text/plain": [
       "<Figure size 432x288 with 1 Axes>"
      ]
     },
     "metadata": {},
     "output_type": "display_data"
    },
    {
     "data": {
      "image/png": "[encoded data removed]",
      "text/plain": [
       "<Figure size 432x288 with 1 Axes>"
      ]
     },
     "metadata": {},
     "output_type": "display_data"
    },
    {
     "data": {
      "image/png": "[encoded data removed]",
      "text/plain": [
       "<Figure size 432x288 with 1 Axes>"
      ]
     },
     "metadata": {},
     "output_type": "display_data"
    }
   ],
   "source": [
    "poverty_timeline('India')\n",
    "poverty_timeline('Nigeria')\n",
    "poverty_timeline('China')\n",
    "poverty_timeline('United States')"
   ]
  },
  {
   "cell_type": "markdown",
   "metadata": {
    "deletable": false,
    "editable": false
   },
   "source": [
    "Although the number of people living in extreme poverty has been increasing in Nigeria and the United States, the massive decreases in China and India have shaped the overall trend that extreme poverty is decreasing worldwide, both in percentage and in absolute number. \n",
    "\n",
    "To learn more, watch [Hans Rosling in a 2015 film](https://www.gapminder.org/videos/dont-panic-end-poverty/) about the UN goal of eradicating extreme poverty from the world. \n",
    "\n",
    "Below, we've also added an interactive dropdown menu for you to visualize `poverty_timeline` graphs for other countries. Note that each dropdown menu selection may take a few seconds to run."
   ]
  },
  {
   "cell_type": "code",
   "execution_count": 55,
   "metadata": {
    "deletable": false,
    "editable": false
   },
   "outputs": [
    {
     "data": {
      "application/vnd.jupyter.widget-view+json": {
       "model_id": "d8bd1c583c694622980bacc02910a468",
       "version_major": 2,
       "version_minor": 0
      },
      "text/plain": [
       "interactive(children=(Dropdown(description='country', options=('Angola', 'Albania', 'Argentina', 'Armenia', 'A…"
      ]
     },
     "metadata": {},
     "output_type": "display_data"
    }
   ],
   "source": [
    "# Just run this cell\n",
    "\n",
    "all_countries = poverty_map.column('name')\n",
    "_ = widgets.interact(poverty_timeline, country=list(all_countries))"
   ]
  },
  {
   "cell_type": "markdown",
   "metadata": {
    "deletable": false,
    "editable": false
   },
   "source": [
    "**You're finished!** Congratulations on mastering data visualization and table manipulation. Time to submit."
   ]
  },
  {
   "cell_type": "markdown",
   "metadata": {},
   "source": [
    "## 3. Submission\n"
   ]
  },
  {
   "cell_type": "markdown",
   "metadata": {
    "collapsed": true
   },
   "source": [
    "Once you're finished, select \"Save and Checkpoint\" in the File menu and then execute the `submit` cell below. The result will contain a link that you can use to check that your assignment has been submitted successfully. If you submit more than once before the deadline, we will only grade your final submission. If you mistakenly submit the wrong one, you can head to [okpy.org](https://okpy.org/) and flag the correct version. To do so, go to the website, click on this assignment, and find the version you would like to have graded. There should be an option to flag that submission for grading!"
   ]
  },
  {
   "cell_type": "code",
   "execution_count": 59,
   "metadata": {},
   "outputs": [
    {
     "data": {
      "application/javascript": [
       "IPython.notebook.save_checkpoint();"
      ],
      "text/plain": [
       "<IPython.core.display.Javascript object>"
      ]
     },
     "metadata": {},
     "output_type": "display_data"
    },
    {
     "data": {
      "application/javascript": [
       "IPython.notebook.save_notebook();"
      ],
      "text/plain": [
       "<IPython.core.display.Javascript object>"
      ]
     },
     "metadata": {},
     "output_type": "display_data"
    },
    {
     "name": "stdout",
     "output_type": "stream",
     "text": [
      "Saving notebook... Saved 'project1.ipynb'.\n",
      "Submit... 100% complete\n",
      "Submission successful for user: rashnabuxey@berkeley.edu\n",
      "URL: https://okpy.org/cal/data8/fa19/project1/submissions/Z84R9g\n",
      "\n"
     ]
    }
   ],
   "source": [
    "_ = ok.submit()"
   ]
  },
  {
   "cell_type": "code",
   "execution_count": 58,
   "metadata": {},
   "outputs": [
    {
     "name": "stdout",
     "output_type": "stream",
     "text": [
      "Running all tests...\n",
      "~~~~~~~~~~~~~~~~~~~~~~~~~~~~~~~~~~~~~~~~~~~~~~~~~~~~~~~~~~~~~~~~~~~~~\n",
      "Running tests\n",
      "\n",
      "---------------------------------------------------------------------\n",
      "Test summary\n",
      "    Passed: 1\n",
      "    Failed: 0\n",
      "[ooooooooook] 100.0% passed\n",
      "\n",
      "~~~~~~~~~~~~~~~~~~~~~~~~~~~~~~~~~~~~~~~~~~~~~~~~~~~~~~~~~~~~~~~~~~~~~\n",
      "Running tests\n",
      "\n",
      "---------------------------------------------------------------------\n",
      "Test summary\n",
      "    Passed: 2\n",
      "    Failed: 0\n",
      "[ooooooooook] 100.0% passed\n",
      "\n",
      "~~~~~~~~~~~~~~~~~~~~~~~~~~~~~~~~~~~~~~~~~~~~~~~~~~~~~~~~~~~~~~~~~~~~~\n",
      "Running tests\n",
      "\n",
      "---------------------------------------------------------------------\n",
      "Test summary\n",
      "    Passed: 3\n",
      "    Failed: 0\n",
      "[ooooooooook] 100.0% passed\n",
      "\n",
      "~~~~~~~~~~~~~~~~~~~~~~~~~~~~~~~~~~~~~~~~~~~~~~~~~~~~~~~~~~~~~~~~~~~~~\n",
      "Running tests\n",
      "\n",
      "---------------------------------------------------------------------\n",
      "Test summary\n",
      "    Passed: 2\n",
      "    Failed: 0\n",
      "[ooooooooook] 100.0% passed\n",
      "\n",
      "~~~~~~~~~~~~~~~~~~~~~~~~~~~~~~~~~~~~~~~~~~~~~~~~~~~~~~~~~~~~~~~~~~~~~\n",
      "Running tests\n",
      "\n",
      "---------------------------------------------------------------------\n",
      "Test summary\n",
      "    Passed: 3\n",
      "    Failed: 0\n",
      "[ooooooooook] 100.0% passed\n",
      "\n",
      "~~~~~~~~~~~~~~~~~~~~~~~~~~~~~~~~~~~~~~~~~~~~~~~~~~~~~~~~~~~~~~~~~~~~~\n",
      "Running tests\n",
      "\n",
      "---------------------------------------------------------------------\n",
      "Test summary\n",
      "    Passed: 1\n",
      "    Failed: 0\n",
      "[ooooooooook] 100.0% passed\n",
      "\n",
      "~~~~~~~~~~~~~~~~~~~~~~~~~~~~~~~~~~~~~~~~~~~~~~~~~~~~~~~~~~~~~~~~~~~~~\n",
      "Running tests\n",
      "\n",
      "---------------------------------------------------------------------\n",
      "Test summary\n",
      "    Passed: 1\n",
      "    Failed: 0\n",
      "[ooooooooook] 100.0% passed\n",
      "\n",
      "~~~~~~~~~~~~~~~~~~~~~~~~~~~~~~~~~~~~~~~~~~~~~~~~~~~~~~~~~~~~~~~~~~~~~\n",
      "Running tests\n",
      "\n",
      "---------------------------------------------------------------------\n",
      "Test summary\n",
      "    Passed: 3\n",
      "    Failed: 0\n",
      "[ooooooooook] 100.0% passed\n",
      "\n",
      "~~~~~~~~~~~~~~~~~~~~~~~~~~~~~~~~~~~~~~~~~~~~~~~~~~~~~~~~~~~~~~~~~~~~~\n",
      "Running tests\n",
      "\n",
      "---------------------------------------------------------------------\n",
      "Test summary\n",
      "    Passed: 3\n",
      "    Failed: 0\n",
      "[ooooooooook] 100.0% passed\n",
      "\n",
      "~~~~~~~~~~~~~~~~~~~~~~~~~~~~~~~~~~~~~~~~~~~~~~~~~~~~~~~~~~~~~~~~~~~~~\n",
      "Running tests\n",
      "\n",
      "---------------------------------------------------------------------\n",
      "Test summary\n",
      "    Passed: 2\n",
      "    Failed: 0\n",
      "[ooooooooook] 100.0% passed\n",
      "\n",
      "~~~~~~~~~~~~~~~~~~~~~~~~~~~~~~~~~~~~~~~~~~~~~~~~~~~~~~~~~~~~~~~~~~~~~\n",
      "Running tests\n",
      "\n",
      "---------------------------------------------------------------------\n",
      "Test summary\n",
      "    Passed: 2\n",
      "    Failed: 0\n",
      "[ooooooooook] 100.0% passed\n",
      "\n",
      "~~~~~~~~~~~~~~~~~~~~~~~~~~~~~~~~~~~~~~~~~~~~~~~~~~~~~~~~~~~~~~~~~~~~~\n",
      "Running tests\n",
      "\n",
      "---------------------------------------------------------------------\n",
      "Test summary\n",
      "    Passed: 2\n",
      "    Failed: 0\n",
      "[ooooooooook] 100.0% passed\n",
      "\n",
      "~~~~~~~~~~~~~~~~~~~~~~~~~~~~~~~~~~~~~~~~~~~~~~~~~~~~~~~~~~~~~~~~~~~~~\n",
      "Running tests\n",
      "\n",
      "---------------------------------------------------------------------\n",
      "Test summary\n",
      "    Passed: 2\n",
      "    Failed: 0\n",
      "[ooooooooook] 100.0% passed\n",
      "\n",
      "~~~~~~~~~~~~~~~~~~~~~~~~~~~~~~~~~~~~~~~~~~~~~~~~~~~~~~~~~~~~~~~~~~~~~\n",
      "Running tests\n",
      "\n",
      "---------------------------------------------------------------------\n",
      "Test summary\n",
      "    Passed: 2\n",
      "    Failed: 0\n",
      "[ooooooooook] 100.0% passed\n",
      "\n",
      "~~~~~~~~~~~~~~~~~~~~~~~~~~~~~~~~~~~~~~~~~~~~~~~~~~~~~~~~~~~~~~~~~~~~~\n",
      "Running tests\n",
      "\n",
      "---------------------------------------------------------------------\n",
      "Test summary\n",
      "    Passed: 4\n",
      "    Failed: 0\n",
      "[ooooooooook] 100.0% passed\n",
      "\n",
      "Finished running all tests.\n"
     ]
    }
   ],
   "source": [
    "# For your convenience, you can run this cell to run all the tests at once!\n",
    "import os\n",
    "print(\"Running all tests...\")\n",
    "_ = [ok.grade(q[:-3]) for q in os.listdir(\"tests\") if q.startswith('q') and len(q) <= 10]\n",
    "print(\"Finished running all tests.\")"
   ]
  },
  {
   "cell_type": "code",
   "execution_count": null,
   "metadata": {},
   "outputs": [],
   "source": []
  }
 ],
 "metadata": {
  "kernelspec": {
   "display_name": "Python 3",
   "language": "python",
   "name": "python3"
  },
  "language_info": {
   "codemirror_mode": {
    "name": "ipython",
    "version": 3
   },
   "file_extension": ".py",
   "mimetype": "text/x-python",
   "name": "python",
   "nbconvert_exporter": "python",
   "pygments_lexer": "ipython3",
   "version": "3.6.8"
  }
 },
 "nbformat": 4,
 "nbformat_minor": 1
}
